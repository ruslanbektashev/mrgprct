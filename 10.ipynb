{
 "cells": [
  {
   "cell_type": "markdown",
   "metadata": {},
   "source": [
    "## Ряд Тейлора для $cos(x)$\n",
    "Используя ряд Тейлора вычислите значение функции $cos(x)$ в данной точке.  \n",
    "$$cos(x) \\approx 1 - \\frac{x^2}{2!} + \\frac{x^4}{4!} + \\cdots + \\frac{(-1)^nx^{2n}}{(2n)!} + \\cdots$$\n",
    "Использовать библиотеку <code>math</code> запрещено.  \n",
    "Для вычисления значений в диапазоне $[-\\pi, \\pi]$ с нужной точностью достаточно первых $20$ членов ряда. Для всех остальных значений воспользуйтесь свойствами косинуса.\n",
    "Можете считать, что $\\pi = 3.14159265359$.\n",
    "##### Формат ввода:\n",
    "Действительное число $x$ — точка, в которой нужно вычислить значение. Известно, что $|x| < 1000\\pi$.\n",
    "##### Формат вывода:\n",
    "Результат вычисления с точностью не меньше $0.001$\n",
    "### Пример\n",
    "##### Ввод:\n",
    "---\n",
    "    0.5\n",
    "---\n",
    "##### Вывод:\n",
    "---\n",
    "    0.87758256189\n",
    "---"
   ]
  },
  {
   "cell_type": "code",
   "execution_count": 46,
   "metadata": {
    "collapsed": false
   },
   "outputs": [
    {
     "name": "stdout",
     "output_type": "stream",
     "text": [
      "0.87758256189\n"
     ]
    }
   ],
   "source": [
    "def factorial(n):\n",
    "    if n < 2:\n",
    "        return 1\n",
    "    return n * factorial(n - 1)\n",
    "\n",
    "pi = 3.14159265359\n",
    "\n",
    "def cos(x):\n",
    "    x = x % pi\n",
    "    value = 0\n",
    "    for i in xrange(0, 40, 2):\n",
    "        value += (((-1) ** (i / 2)) * (x ** i)) / factorial(i)\n",
    "    return value\n",
    "\n",
    "print cos(0.5)"
   ]
  },
  {
   "cell_type": "markdown",
   "metadata": {},
   "source": [
    "---\n",
    "## Ряд Тейлора для $sin(x)$\n",
    "Используя ряд Тейлора вычислите значение функции $sin(x)$ в данной точке.  \n",
    "$$sin(x) \\approx x - \\frac{x^3}{3!} + \\frac{x^5}{5!} + \\cdots + \\frac{(-1)^nx^{2n+1}}{(2n+1)!} + \\cdots$$\n",
    "Использовать библиотеку <code>math</code> запрещено.  \n",
    "Для вычисления значений в заданном диапазоне с нужной точностью достаточно первых $50$ членов ряда.\n",
    "##### Формат ввода:\n",
    "Действительное число $x$ — точка, в которой нужно вычислить значение. Известно, что $|x| < 5\\pi$.\n",
    "##### Формат вывода:\n",
    "Результат вычисления с точностью не меньше $0.001$\n",
    "### Пример\n",
    "##### Ввод:\n",
    "---\n",
    "    0.5\n",
    "---\n",
    "##### Вывод:\n",
    "---\n",
    "    0.4794\n",
    "---"
   ]
  },
  {
   "cell_type": "code",
   "execution_count": 47,
   "metadata": {
    "collapsed": false
   },
   "outputs": [
    {
     "name": "stdout",
     "output_type": "stream",
     "text": [
      "0.479425538604\n"
     ]
    }
   ],
   "source": [
    "def factorial(n):\n",
    "    if n < 2:\n",
    "        return 1\n",
    "    return n * factorial(n - 1)\n",
    "\n",
    "pi = 3.14159265359\n",
    "\n",
    "def sin(x):\n",
    "    x = x % pi\n",
    "    value = 0\n",
    "    for i in xrange(1, 101, 2):\n",
    "        value += (((-1) ** ((i - 1)/ 2)) * (x ** i)) / factorial(i)\n",
    "    return value\n",
    "\n",
    "print sin(0.5)"
   ]
  },
  {
   "cell_type": "markdown",
   "metadata": {},
   "source": [
    "---\n",
    "## Ряд Тейлора для $e^x$\n",
    "Используя ряд Тейлора вычислите значение функции $e^x$ в данной точке.  \n",
    "$$e^x \\approx 1 + x + \\frac{x^2}{2!} + \\frac{x^3}{3!} + \\cdots + \\frac{x^{n}}{n!} + \\cdots$$\n",
    "Использовать библиотеку <code>math</code> запрещено.  \n",
    "Для вычисления значений в заданном диапазоне с нужной точностью достаточно первых $50$ членов ряда.\n",
    "##### Формат ввода:\n",
    "Действительное число $x$ — точка, в которой нужно вычислить значение. Известно, что $|x| < 10$.\n",
    "##### Формат вывода:\n",
    "Результат вычисления с точностью не меньше $0.001$\n",
    "### Пример\n",
    "##### Ввод:\n",
    "---\n",
    "    1\n",
    "---\n",
    "##### Вывод:\n",
    "---\n",
    "    2.7182\n",
    "---"
   ]
  },
  {
   "cell_type": "code",
   "execution_count": 48,
   "metadata": {
    "collapsed": false
   },
   "outputs": [
    {
     "name": "stdout",
     "output_type": "stream",
     "text": [
      "2.71828182846\n"
     ]
    }
   ],
   "source": [
    "def factorial(n):\n",
    "    if n < 2:\n",
    "        return 1\n",
    "    return n * factorial(n - 1)\n",
    "\n",
    "def e(x):\n",
    "    value = 0\n",
    "    for i in xrange(50):\n",
    "        value += float(x ** i) / factorial(i)\n",
    "    return value\n",
    "\n",
    "print e(1)"
   ]
  },
  {
   "cell_type": "markdown",
   "metadata": {},
   "source": [
    "---\n",
    "## Ряд Тейлора для $arcsin(x)$\n",
    "Используя ряд Тейлора вычислите значение функции $arcsin(x)$ в данной точке.  \n",
    "$$arcsin(x) \\approx x + \\frac{x^3}{6} + \\cdots + \\frac{(2n)!x^{2n+1}}{4^n(n!)^2(2n+1)} + \\cdots$$\n",
    "Использовать библиотеку <code>math</code> запрещено.  \n",
    "Для вычисления значений в заданном диапазоне с нужной точностью достаточно первых $50$ членов ряда.\n",
    "##### Формат ввода:\n",
    "Действительное число $x$ — точка, в которой нужно вычислить значение. Известно, что $|x| \\leq 0.95$.\n",
    "##### Формат вывода:\n",
    "Результат вычисления с точностью не меньше $0.001$\n",
    "### Пример\n",
    "##### Ввод:\n",
    "---\n",
    "    0.5\n",
    "---\n",
    "##### Вывод:\n",
    "---\n",
    "    0.523598775598299\n",
    "---"
   ]
  },
  {
   "cell_type": "code",
   "execution_count": 49,
   "metadata": {
    "collapsed": false
   },
   "outputs": [
    {
     "name": "stdout",
     "output_type": "stream",
     "text": [
      "0.523598775598\n"
     ]
    }
   ],
   "source": [
    "def factorial(n):\n",
    "    if n < 2:\n",
    "        return 1\n",
    "    return n * factorial(n - 1)\n",
    "\n",
    "def arcsin(x):\n",
    "    x = float(x)\n",
    "    value = 0\n",
    "    for i in xrange(1, 101, 2):\n",
    "        value += (factorial(i - 1) * (x ** i)) / (4 ** ((i - 1) / 2) * (factorial((i - 1) / 2) ** 2) * i)\n",
    "    return value\n",
    "\n",
    "print arcsin(0.5)"
   ]
  },
  {
   "cell_type": "markdown",
   "metadata": {},
   "source": [
    "---\n",
    "## Ряд Тейлора для $arctan(x)$\n",
    "Используя ряд Тейлора вычислите значение функции $arctan(x)$ в данной точке.  \n",
    "$$arctan(x) \\approx x - \\frac{x^3}{3} + \\cdots + \\frac{(-1)^nx^{2n+1}}{2n+1} + \\cdots$$\n",
    "Использовать библиотеку <code>math</code> запрещено.  \n",
    "Для вычисления значений в заданном диапазоне с нужной точностью достаточно первых $500$ членов ряда.\n",
    "##### Формат ввода:\n",
    "Действительное число $x$ — точка, в которой нужно вычислить значение. Известно, что $|x| \\leq 1$.\n",
    "##### Формат вывода:\n",
    "Результат вычисления с точностью не меньше $0.001$\n",
    "### Пример\n",
    "##### Ввод:\n",
    "---\n",
    "    0.5\n",
    "---\n",
    "##### Вывод:\n",
    "---\n",
    "    0.463647609001\n",
    "---"
   ]
  },
  {
   "cell_type": "code",
   "execution_count": 50,
   "metadata": {
    "collapsed": false
   },
   "outputs": [
    {
     "name": "stdout",
     "output_type": "stream",
     "text": [
      "0.463647609001\n"
     ]
    }
   ],
   "source": [
    "def factorial(n):\n",
    "    if n < 2:\n",
    "        return 1\n",
    "    return n * factorial(n - 1)\n",
    "\n",
    "def arctan(x):\n",
    "    x = float(x)\n",
    "    value = 0\n",
    "    for i in xrange(1, 101, 2):\n",
    "        value += ((-1) ** ((i - 1) / 2) * (x ** i)) /  i\n",
    "    return value\n",
    "\n",
    "print arctan(0.5)"
   ]
  },
  {
   "cell_type": "code",
   "execution_count": null,
   "metadata": {
    "collapsed": true
   },
   "outputs": [],
   "source": []
  }
 ],
 "metadata": {
  "kernelspec": {
   "display_name": "Python 2",
   "language": "python",
   "name": "python2"
  },
  "language_info": {
   "codemirror_mode": {
    "name": "ipython",
    "version": 2
   },
   "file_extension": ".py",
   "mimetype": "text/x-python",
   "name": "python",
   "nbconvert_exporter": "python",
   "pygments_lexer": "ipython2",
   "version": "2.7.11"
  }
 },
 "nbformat": 4,
 "nbformat_minor": 0
}
