{
 "cells": [
  {
   "cell_type": "markdown",
   "metadata": {},
   "source": [
    "##Поисковые запросы и предлоги\n",
    "Дашу взяли на стажировку в поисковую компанию и в качестве первого задания ей поручили проанализировать поисковые запросы. Ей необходимо понять, на каких позициях в запросах могут встречаться предлоги.\n",
    "#####Формат ввода:\n",
    "В первой строке находится список предлогов, разделенных пробелами (одним или несколькими).\n",
    "Далее идет произвольное количество поисковых запросов. Каждый запрос находится на отдельной строке и представляет из себя слова, разделенные пробелами (одним или несколькими).\n",
    "Считайте, что в словах могут встречаться любые непробельные символы.\n",
    "#####Формат вывода:\n",
    "Список возможных позиций этих предлогов, разделенных пробелами. Числа должны быть остортированы по возрастанию, индексация идет с 1, повторов быть не должно.\n",
    "###Пример\n",
    "#####Ввод:\n",
    "---\n",
    "    to in for as\n",
    "    how to do math\n",
    "    humor in films\n",
    "    good programs for windows\n",
    "---\n",
    "#####Вывод:\n",
    "---\n",
    "    2 3\n",
    "---"
   ]
  },
  {
   "cell_type": "code",
   "execution_count": 1,
   "metadata": {
    "collapsed": false
   },
   "outputs": [
    {
     "name": "stdout",
     "output_type": "stream",
     "text": [
      "to in for as\n",
      "how to do math\n",
      "humor in films\n",
      "good programs for windows\n",
      "\n",
      "2 3\n"
     ]
    }
   ],
   "source": [
    "prepositions = set(raw_input().split())\n",
    "\n",
    "positions = set()\n",
    "\n",
    "while True:\n",
    "    try:\n",
    "        words = raw_input().split()\n",
    "    except EOFError:\n",
    "        break\n",
    "    if words:\n",
    "        for i in xrange(len(words)):\n",
    "            if words[i] in prepositions:\n",
    "                positions.add(i + 1)\n",
    "    else:\n",
    "        break\n",
    "        \n",
    "for position in sorted(positions):\n",
    "    print position,"
   ]
  },
  {
   "cell_type": "markdown",
   "metadata": {},
   "source": [
    "---\n",
    "##Исправление ошибок в поисковых запросах\n",
    "Машу взяли на стажировку в поисковую компанию и ее первое задание — исправление ошибок в поисковых запросах. Для каждого словарного слова ей дали список возможных ошибок в этом слове. Ей нужно исправить ошибки во всех словах в списке запросов.\n",
    "#####Формат ввода:\n",
    "В первой строке указано количество слов в словаре $N$. Далее идет $N, N \\leq 20$ строк, в каждой из которых через пробел перечислены слова. Первым идет словарное слово, а потом — возможные варианты искажений этого слова (не более $100$). Гарантируется, что одно слово не может быть искажением двух других (то есть в списках искажений нет пересечений).\n",
    "Далее идет пустая строка и за ней — произвольное количество поисковых запросов (от $0$ до $1000$). Каждый запрос находится на отдельной строке и представляет из себя слова, разделенные пробелами (одним или несколькими). Словом считается любая последовательность непробельных символов.\n",
    "#####Формат вывода:\n",
    "Выведите те же самые запросы в том же формате, но с исправленными ошибками.\n",
    "###Пример\n",
    "#####Ввод:\n",
    "---\n",
    "    2\n",
    "    facebook facebok fcebook fasebook\n",
    "    films fims filmse\n",
    "\n",
    "    facebok not working\n",
    "    fcebook\n",
    "    watch fims fcebook\n",
    "    fasebook\n",
    "---\n",
    "#####Вывод:\n",
    "---\n",
    "    facebook not working\n",
    "    facebook\n",
    "    watch films facebook\n",
    "    facebook\n",
    "---"
   ]
  },
  {
   "cell_type": "code",
   "execution_count": 2,
   "metadata": {
    "collapsed": false
   },
   "outputs": [
    {
     "name": "stdout",
     "output_type": "stream",
     "text": [
      "2\n",
      "facebook facebok fcebook fasebook\n",
      "films fims filmse\n",
      "facebok not working\n",
      "fcebook\n",
      "watch fims fcebook\n",
      "fasebook\n",
      "\n",
      "facebook not working\n",
      "facebook\n",
      "watch films facebook\n",
      "facebook\n"
     ]
    }
   ],
   "source": [
    "corrections = {}\n",
    "output = []\n",
    "\n",
    "N = int(raw_input())\n",
    "for i in xrange(N):\n",
    "    words = raw_input().split()\n",
    "    for word in words[1:]:\n",
    "        corrections[word] = words[0]\n",
    "        \n",
    "while True:\n",
    "    try:\n",
    "        words = raw_input().split()\n",
    "    except EOFError:\n",
    "        break\n",
    "    if words:\n",
    "        for i in xrange(len(words)):\n",
    "            if words[i] in corrections:\n",
    "                words[i] = corrections[words[i]]\n",
    "        output.append(\" \".join(words))\n",
    "    else:\n",
    "        break\n",
    "        \n",
    "for line in output:\n",
    "    print line"
   ]
  },
  {
   "cell_type": "markdown",
   "metadata": {},
   "source": [
    "---\n",
    "##Уникальные поисковые запросы\n",
    "Олю взяли на стажировку в поисковую компанию и в качестве первого задания ей поручили проанализировать поисковые запросы. Ей необходимо найти количество уникальных поисковых запросов. При этом два запроса считаются одинаковыми, если один из них можно получить из другого перестановкой или повторением слов.\n",
    "#####Формат ввода:\n",
    "На вход подается произвольное количество запросов. Каждый из них находится на отдельной строке и состоит из слов, разделенных пробелами (одним или несколькими).\n",
    "#####Формат вывода:\n",
    "Выведите одно число — количество уникальных запросов.\n",
    "###Пример\n",
    "#####Ввод:\n",
    "---\n",
    "    some query\n",
    "    another query\n",
    "    and another query\n",
    "    query some\n",
    "    query and another query\n",
    "---\n",
    "#####Вывод:\n",
    "---\n",
    "    3\n",
    "---"
   ]
  },
  {
   "cell_type": "code",
   "execution_count": 3,
   "metadata": {
    "collapsed": false
   },
   "outputs": [
    {
     "name": "stdout",
     "output_type": "stream",
     "text": [
      "some query\n",
      "another query\n",
      "and another query\n",
      "query some\n",
      "query and another query\n",
      "\n",
      "3\n"
     ]
    }
   ],
   "source": [
    "unique_queries = []\n",
    "\n",
    "while True:\n",
    "    try:\n",
    "        words = set(raw_input().split())\n",
    "    except EOFError:\n",
    "        break\n",
    "    if words:\n",
    "        if words not in unique_queries:\n",
    "            unique_queries.append(words)\n",
    "    else:\n",
    "        break\n",
    "        \n",
    "print len(unique_queries)"
   ]
  },
  {
   "cell_type": "markdown",
   "metadata": {},
   "source": [
    "---\n",
    "##Подсказки для поисковых запросов\n",
    "Настю взяли на стажировку в поисковую компанию и в качестве первого задания ей поручили составить подсказки для поисковых запросов. Дан список поисковых запросов, которые уже задавали пользователи, и необходимо для каждого слова определить, какое слово чаще всего идет после него.\n",
    "#####Формат ввода:\n",
    "На вход подается произвольное количество запросов (от $0$ до $1000$). Каждый из них находится на отдельной строке и состоит из слов, разделенных пробелами (одним или несколькими).\n",
    "#####Формат вывода:\n",
    "Для каждого слова, которое хотя бы раз встречалось в запросах на непоследней позиции, выведите его и наиболее вероятное следующее слово. Если таких слов несколько, то выберите то, которое идет раньше по алфавиту. Список слов выводите в лексикографическом порядке.\n",
    "Обратите внимание, что информация по словам, которые встречались только в самом конце запроса, не выводится (так как после них ни разу не было другого слова).\n",
    "###Пример\n",
    "#####Ввод:\n",
    "---\n",
    "    some query\n",
    "    another query\n",
    "    and another query\n",
    "    query some\n",
    "    query and another query\n",
    "---\n",
    "#####Вывод:\n",
    "---\n",
    "    and another\n",
    "    another query\n",
    "    query and\n",
    "    some query\n",
    "---"
   ]
  },
  {
   "cell_type": "code",
   "execution_count": 91,
   "metadata": {
    "collapsed": false
   },
   "outputs": [
    {
     "name": "stdout",
     "output_type": "stream",
     "text": [
      "some query\n",
      "another query\n",
      "and another query\n",
      "query another and query\n",
      "query some\n",
      "\n",
      "and another\n",
      "another query\n",
      "query another\n",
      "some query\n"
     ]
    }
   ],
   "source": [
    "import operator\n",
    "history = {}\n",
    "\n",
    "while True:\n",
    "    try:\n",
    "        words = raw_input().split()\n",
    "    except EOFError:\n",
    "        break\n",
    "    if words:\n",
    "        for i in xrange(len(words) - 1):\n",
    "            if words[i] in history:\n",
    "                if words[i + 1] in history[words[i]]:\n",
    "                    history[words[i]][words[i + 1]] += 1\n",
    "                else:\n",
    "                    history[words[i]][words[i + 1]] = 1\n",
    "            else:\n",
    "                history[words[i]] = {words[i + 1]: 1}\n",
    "    else:\n",
    "        break\n",
    "\n",
    "sorted_history = sorted(history.items())\n",
    "for phrase in sorted_history:\n",
    "    max_freq = max(phrase[1].values())\n",
    "    prediction = sorted([k for k, v in phrase[1].items() if v == max_freq])\n",
    "    print phrase[0], prediction[0]"
   ]
  },
  {
   "cell_type": "markdown",
   "metadata": {},
   "source": [
    "---\n",
    "##Упоминания тем в поисковых запросах\n",
    "Лизу взяли на стажировку в поисковую компанию и в качестве первого задания ей поручили проанализировать упоминания разных тем в поисковых запросах. Ей даны названия тем и списки слов, характерных для этих тем (какие-то слова могут быть характерные для нескольких тем). Необходимо для данного набора поисковых запросов посчитать, сколько раз каждая тема упоминалась. Если в запросе встречается несколько слов из одной темы, это считается одним упоминанием.\n",
    "#####Формат ввода:\n",
    "В первой строке написано число тем $N$. Далее на $N$ строках идут описания тем. В каждом описании через пробелы стоит сначала название темы, а потом идет произвольное количество характерных слов. Гарантируется, что все названия тем различны, однако в описании одной темы могут использоваться одинаковые характерные слова. Далее идет перенос строки и произвольное количество запросов. Каждый из них находится на отдельной строке и состоит из слов, разделенных пробелами (одним или несколькими).\n",
    "#####Формат вывода:\n",
    "Для каждой темы выведите название темы и количество упоминаний на отдельной строке. Темы отсортируйте лексикографически.\n",
    "###Пример\n",
    "#####Ввод:\n",
    "---\n",
    "    2\n",
    "    programming code C++ bug\n",
    "    entertainment movies music\n",
    "\n",
    "    how to compile code C++\n",
    "    best movies 2014\n",
    "    python stdin bug\n",
    "---\n",
    "#####Вывод:\n",
    "---\n",
    "    entertainment 1\n",
    "    programming 2\n",
    "---"
   ]
  },
  {
   "cell_type": "code",
   "execution_count": 5,
   "metadata": {
    "collapsed": false
   },
   "outputs": [
    {
     "name": "stdout",
     "output_type": "stream",
     "text": [
      "2\n",
      "programming code C++ bug\n",
      "entertainment movies music\n",
      "how to compile code C++\n",
      "best movies 2014\n",
      "python stdin bug\n",
      "\n",
      "entertainment 1\n",
      "programming 3\n"
     ]
    }
   ],
   "source": [
    "topics = {} ######################## исправить! ########################\n",
    "references = {}\n",
    "\n",
    "N = int(raw_input())\n",
    "for i in xrange(N):\n",
    "    words = raw_input().split()\n",
    "    for word in words[1:]:\n",
    "        if words[0] in topics:\n",
    "            topics[words[0]].add(word)\n",
    "        else:\n",
    "            references[words[0]] = 0\n",
    "            topics[words[0]] = set([word])\n",
    "\n",
    "while True:\n",
    "    try:\n",
    "        words = raw_input().split()\n",
    "    except EOFError:\n",
    "        break\n",
    "    if words:\n",
    "        for word in words:\n",
    "            for topic in topics:\n",
    "                if word in topics[topic]:\n",
    "                    references[topic] += 1 # исправь так, чтобы найденная тема инкрементировалась только один раз\n",
    "    else:\n",
    "        break\n",
    "\n",
    "for key, value in sorted(references.items()):\n",
    "    print key, value"
   ]
  },
  {
   "cell_type": "code",
   "execution_count": null,
   "metadata": {
    "collapsed": true
   },
   "outputs": [],
   "source": []
  }
 ],
 "metadata": {
  "kernelspec": {
   "display_name": "Python 2",
   "language": "python",
   "name": "python2"
  },
  "language_info": {
   "codemirror_mode": {
    "name": "ipython",
    "version": 2
   },
   "file_extension": ".py",
   "mimetype": "text/x-python",
   "name": "python",
   "nbconvert_exporter": "python",
   "pygments_lexer": "ipython2",
   "version": "2.7.10"
  }
 },
 "nbformat": 4,
 "nbformat_minor": 0
}
