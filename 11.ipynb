{
 "cells": [
  {
   "cell_type": "markdown",
   "metadata": {},
   "source": [
    "## Пароли-1\n",
    "Студентам раздали логины и пароли от системы Яндекс.Контест. К сожалению, у одного студента никак не получается войти в систему. Он подозревает, что это из-за того, что в его пароле встретилась то ли маленькая латинская буква l (L), то ли заглавная латинская буква I (i), которые на экране выглядят почти одинаково. Когда студент перепечатывает на компьютере пароль из своего смартфона, он ошибается и вводит не ту букву.\n",
    "Помогите ему написать программу, которая по заданной строке с паролем кроме самой этой строки сгенерирует и все возможные варианты, получаемые заменой одной или нескольких букв I на l и наоборот. Вывести их нужно в алфавитном порядке.\n",
    "##### Формат ввода:\n",
    "Одно слово длиной не более 15 символов.\n",
    "##### Формат вывода:\n",
    "Все возможные варианты пароля, каждый с новой строки, в лексикографическом порядке.\n",
    "### Пример\n",
    "##### Ввод:\n",
    "---\n",
    "    Illinois\n",
    "---\n",
    "##### Вывод:\n",
    "---\n",
    "    IIIinois\n",
    "    IIlinois\n",
    "    IlIinois\n",
    "    Illinois\n",
    "    lIIinois\n",
    "    lIlinois\n",
    "    llIinois\n",
    "    lllinois\n",
    "---"
   ]
  },
  {
   "cell_type": "code",
   "execution_count": 49,
   "metadata": {
    "collapsed": false
   },
   "outputs": [
    {
     "name": "stdout",
     "output_type": "stream",
     "text": [
      "Illinois\n",
      "IIIinois\n",
      "IIlinois\n",
      "IlIinois\n",
      "Illinois\n",
      "lIIinois\n",
      "lIlinois\n",
      "llIinois\n",
      "lllinois\n"
     ]
    }
   ],
   "source": [
    "import itertools\n",
    "\n",
    "string = raw_input()\n",
    "count = string.count('I') + string.count('l')\n",
    "string = string.replace('I', '*').replace('l', '*')\n",
    "\n",
    "replacements = sorted(set(itertools.combinations_with_replacement(\"IlIl\", count)))\n",
    "\n",
    "for replacement in replacements:\n",
    "    prediction = list(string)\n",
    "    for character in replacement:\n",
    "        prediction[prediction.index('*')] = character\n",
    "    print ''.join(prediction)"
   ]
  },
  {
   "cell_type": "markdown",
   "metadata": {},
   "source": [
    "---\n",
    "## Пароли-1\n",
    "Студент Петя завёл себе новый почтовый аккаунт и придумал для него пароль из нескольких составленных вместе слов. К сожалению, порядок этих слов Петя тут же забыл. Да и среди слов–частей пароля, которые Петя смог вспомнить, кажется, есть лишние. Помогите ему написать программу, которая по заданной строке со словами составит все варианты пароля. (Пароль может быть любой комбинацией подмножества введённых слов и не может быть пустым.)\n",
    "##### Формат ввода:\n",
    "Одна строка, в которой содержится не более 7 слов из строчных букв, разделённых пробелом\n",
    "##### Формат вывода:\n",
    "Все возможные варианты пароля, каждый с новой строки, в лексикографическом порядке. Пароль не может быть пустым.\n",
    "### Пример\n",
    "##### Ввод:\n",
    "---\n",
    "    roses are red\n",
    "---\n",
    "##### Вывод:\n",
    "---\n",
    "    are\n",
    "    arered\n",
    "    areredroses\n",
    "    areroses\n",
    "    arerosesred\n",
    "    red\n",
    "    redare\n",
    "    redareroses\n",
    "    redroses\n",
    "    redrosesare\n",
    "    roses\n",
    "    rosesare\n",
    "    rosesarered\n",
    "    rosesred\n",
    "    rosesredare\n",
    "---"
   ]
  },
  {
   "cell_type": "code",
   "execution_count": 59,
   "metadata": {
    "collapsed": false
   },
   "outputs": [
    {
     "name": "stdout",
     "output_type": "stream",
     "text": [
      "roses are red\n",
      "are\n",
      "arered\n",
      "areredroses\n",
      "areroses\n",
      "arerosesred\n",
      "red\n",
      "redare\n",
      "redareroses\n",
      "redroses\n",
      "redrosesare\n",
      "roses\n",
      "rosesare\n",
      "rosesarered\n",
      "rosesred\n",
      "rosesredare\n"
     ]
    }
   ],
   "source": [
    "words = raw_input().split()\n",
    "possibilities = []\n",
    "\n",
    "for i in xrange(1, len(words) + 1):\n",
    "    possibilities += list(itertools.permutations(words, i))\n",
    "possibilities.sort()\n",
    "\n",
    "for possibility in possibilities:\n",
    "    print ''.join(possibility)"
   ]
  },
  {
   "cell_type": "markdown",
   "metadata": {},
   "source": [
    "---\n",
    "## Пароли-3\n",
    "Студент Петя всегда пользовался одним и тем же паролем, состоящим из одного словарного слова на всех ресурсах интернета. Но, однажды, когда он заводил себе новый e-mail адрес, система потребовала от него усложнить свой пароль, добавив в него цифры и прописные буквы. Придумывать новый пароль Пете не хотелось, по этому он модифицировал свой обычный пароль, заменив в нём часть букв 'a' на прописные и часть букв 'o' на ноль. Петя конечно же сразу забыл, какие буквы он изменил. Помогите ему написать программу, которая по его обычному паролю выведет все возможные варианты усложнённого пароля. (Пароль обязательно должен содержать хотя бы одну прописную букву, хотя бы одну строчную букву и хотя бы одну цифру.)\n",
    "##### Формат ввода:\n",
    "Одна строка в которой содержится слово из не более чем 20 латинских букв (в этом слове гарантированно встречаются буквы 'o' и 'a').\n",
    "##### Формат вывода:\n",
    "Все возможные варианты пароля, каждый с новой строки, в лексикографическом порядке. Пароль не может быть пустым.\n",
    "### Пример\n",
    "##### Ввод:\n",
    "---\n",
    "    abomination\n",
    "---\n",
    "##### Вывод:\n",
    "---\n",
    "    Ab0minAti0n\n",
    "    Ab0minAtion\n",
    "    Ab0minati0n\n",
    "    Ab0mination\n",
    "    AbominAti0n\n",
    "    Abominati0n\n",
    "    ab0minAti0n\n",
    "    ab0minAtion\n",
    "    abominAti0n\n",
    "---"
   ]
  },
  {
   "cell_type": "code",
   "execution_count": 72,
   "metadata": {
    "collapsed": false
   },
   "outputs": [
    {
     "name": "stdout",
     "output_type": "stream",
     "text": [
      "abomination\n",
      "Ab0minAti0n\n",
      "Ab0minAtion\n",
      "AbominAti0n\n",
      "Ab0minati0n\n",
      "Ab0mination\n",
      "Abominati0n\n",
      "ab0minAti0n\n",
      "ab0minAtion\n",
      "abominAti0n\n"
     ]
    }
   ],
   "source": [
    "import itertools\n",
    "string = raw_input()\n",
    "a_count, o_count = string.count('a'), string.count('o')\n",
    "string = string.replace('a', '*').replace('o', '#')\n",
    "a_replacements = sorted(set(itertools.combinations_with_replacement('AaAa', a_count)))[:-1]\n",
    "o_replacements = sorted(set(itertools.combinations_with_replacement('0o0o', o_count)))[:-1]\n",
    "\n",
    "for a_replacement in a_replacements:\n",
    "    a_prediction = list(string)\n",
    "    for character in a_replacement:\n",
    "        a_prediction[a_prediction.index('*')] = character\n",
    "    for o_replacement in o_replacements:\n",
    "        o_prediction = a_prediction[:]\n",
    "        for character in o_replacement:\n",
    "            o_prediction[o_prediction.index('#')] = character\n",
    "        print ''.join(o_prediction)"
   ]
  },
  {
   "cell_type": "markdown",
   "metadata": {},
   "source": [
    "---\n",
    "## Пароли-4\n",
    "Студент Геннадий придумывает свои пароли таким образом: берёт два простых слова и соединяет их в одно так, чтобы получающаяся строка была любой последовательностью символов исходных строк, но при этом символы каждой из строк сохраняли бы свой относительный порядок. То есть, соединяя строки abc и xyz, Геннадий получит последовательность из 6 символов, где c всегда будет находится позже, чем a и b, b позже чем a и аналогично для xyz). Однажды Геннадий забыл порядок букв в одном из своих паролей, и теперь пытается написать программу, которая, получив на вход слова, из которых составлен пароль, вывела бы все возможные варианты пароля, удовлетворяющие правилам. Помогите ему в этом.\n",
    "##### Формат ввода:\n",
    "Два слова через пробел, каждое не более 5 букв.\n",
    "##### Формат вывода:\n",
    "Все возможные различные варианты пароля, каждый с новой строки, в лексикографическом порядке.\n",
    "### Пример\n",
    "##### Ввод:\n",
    "---\n",
    "    te st\n",
    "---\n",
    "##### Вывод:\n",
    "---\n",
    "    stet\n",
    "    stte\n",
    "    test\n",
    "    tset\n",
    "    tste\n",
    "---"
   ]
  },
  {
   "cell_type": "code",
   "execution_count": 80,
   "metadata": {
    "collapsed": false
   },
   "outputs": [
    {
     "name": "stdout",
     "output_type": "stream",
     "text": [
      "te st\n",
      "['t', 'e', 's', 't']\n",
      "['t', 's', 'e', 't']\n",
      "['t', 's', 't', 'e']\n",
      "['s', 't', 'e', 't']\n",
      "['s', 't', 't', 'e']\n",
      "['s', 't', 't', 'e']\n"
     ]
    }
   ],
   "source": [
    "import itertools\n",
    "words = raw_input().split()\n",
    "total_len = sum(len(word) for word in words)\n",
    "first_len = len(words[0])\n",
    "possibilities = set()\n",
    "for combination in list(itertools.combinations(range(total_len), first_len)):\n",
    "    possibility = [None] * total_len\n",
    "    for i, j in enumerate(combination):\n",
    "        possibility[j] = words[0][i]\n",
    "    for i, j in enumerate(sorted(set(range(total_len)).difference(set(combination)))):\n",
    "        possibility[j] = words[1][i]\n",
    "    possibilities.add(''.join(possibility))\n",
    "print '\\n'.joi"
   ]
  },
  {
   "cell_type": "code",
   "execution_count": 76,
   "metadata": {
    "collapsed": false
   },
   "outputs": [
    {
     "name": "stdout",
     "output_type": "stream",
     "text": [
      "1\n"
     ]
    }
   ],
   "source": []
  },
  {
   "cell_type": "code",
   "execution_count": null,
   "metadata": {
    "collapsed": true
   },
   "outputs": [],
   "source": []
  }
 ],
 "metadata": {
  "kernelspec": {
   "display_name": "Python 2",
   "language": "python",
   "name": "python2"
  },
  "language_info": {
   "codemirror_mode": {
    "name": "ipython",
    "version": 2
   },
   "file_extension": ".py",
   "mimetype": "text/x-python",
   "name": "python",
   "nbconvert_exporter": "python",
   "pygments_lexer": "ipython2",
   "version": "2.7.11"
  }
 },
 "nbformat": 4,
 "nbformat_minor": 0
}
