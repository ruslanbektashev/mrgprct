{
 "cells": [
  {
   "cell_type": "code",
   "execution_count": 8,
   "metadata": {
    "collapsed": false
   },
   "outputs": [
    {
     "name": "stdout",
     "output_type": "stream",
     "text": [
      "ammonium\n",
      "a500\n"
     ]
    }
   ],
   "source": [
    "code = { # отображение согласных в код\n",
    "    'b':'1', \n",
    "    'f':'1', \n",
    "    'p':'1', \n",
    "    'v':'1',\n",
    "    'c':'2', \n",
    "    'g':'2', \n",
    "    'j':'2', \n",
    "    'k':'2', \n",
    "    'q':'2', \n",
    "    's':'2', \n",
    "    'x':'2', \n",
    "    'z':'2',\n",
    "    'd':'3', \n",
    "    't':'3',\n",
    "    'l':'4',\n",
    "    'm':'5', \n",
    "    'n':'5',\n",
    "    'r':'6'\n",
    "}\n",
    "\n",
    "vowels = ['a', 'e', 'h', 'i', 'o', 'u', 'w', 'y'] # гласные звуки\n",
    "\n",
    "string = raw_input()\n",
    "cypher = string[0] # ответ будем писать сюда\n",
    "prev_code = None # флаг для отбрасывания одинаковых последовательных цифр\n",
    "for character in string[1:]:\n",
    "    if character in vowels:\n",
    "        continue # пропускаем гласные\n",
    "    if prev_code == None:\n",
    "        prev_code = code[character]\n",
    "    elif prev_code == code[character]:\n",
    "        continue # пропустить букву, если код совпадает с предыдущим\n",
    "    cypher += code[character]\n",
    "    prev_code = code[character]\n",
    "\n",
    "if len(cypher) < 4:\n",
    "    cypher += '0' * (4 - len(cypher))\n",
    "print cypher[:4]"
   ]
  },
  {
   "cell_type": "code",
   "execution_count": 12,
   "metadata": {
    "collapsed": false
   },
   "outputs": [
    {
     "name": "stdout",
     "output_type": "stream",
     "text": [
      "3\n",
      "ABC\n",
      "A37\n",
      "BCDA\n",
      "2\n",
      "A317BD\n",
      "B137AC\n",
      "B137AC\n"
     ]
    }
   ],
   "source": [
    "witnesses = [] # показания свидетелей\n",
    "suspects = [] # подозреваемые\n",
    "\n",
    "M = int(raw_input())\n",
    "for i in range(M):\n",
    "    witnesses.append(raw_input())\n",
    "    \n",
    "N = int(raw_input())\n",
    "for i in range(N):\n",
    "    suspects.append(raw_input())\n",
    "    \n",
    "match_map = {}\n",
    "\n",
    "for suspect in suspects:\n",
    "    suspect_set = set(suspect) # получаем множество букв из подозреваемого\n",
    "    matches = 0\n",
    "    for witness in witnesses:\n",
    "        witness_set = set(witness) # получаем множество букв из показания\n",
    "        if witness_set.issubset(suspect_set): # метод .issubset проверяет, является ли множество подмножеством другого\n",
    "            matches += 1\n",
    "    match_map[suspect] = matches\n",
    "    \n",
    "max_matches = max(match_map.values()) # получаем максимум по совпадениям, метод .values дает нам список значений словаря\n",
    "max_match_map = {key: value for key, value in match_map.items() if value == max_matches}\n",
    "for suspect in suspects:\n",
    "    if suspect in max_match_map:\n",
    "        print suspect"
   ]
  },
  {
   "cell_type": "code",
   "execution_count": 15,
   "metadata": {
    "collapsed": false
   },
   "outputs": [
    {
     "name": "stdout",
     "output_type": "stream",
     "text": [
      "2\n",
      "4\n",
      "A 1 0\n",
      "B 0 0\n",
      "C 0 1\n",
      "D 1 1\n",
      "A B C\n",
      "A D C\n",
      "B A D\n",
      "B C D\n"
     ]
    }
   ],
   "source": [
    "N = int(raw_input())\n",
    "M = int(raw_input())\n",
    "points = []\n",
    "for i in range(M):\n",
    "    words = raw_input().split()\n",
    "    points.append(words[:1] + [int(c) for c in words[1:]])\n",
    "\n",
    "print_sets = []\n",
    "\n",
    "for first in points:\n",
    "    for second in points:\n",
    "        if first == second:\n",
    "            continue\n",
    "        for third in points:\n",
    "            if third == second or third == first:\n",
    "                continue\n",
    "            u = [f - s for f, s in zip(first[1:], second[1:])]\n",
    "            v = [t - s for t, s in zip(third[1:], second[1:])]\n",
    "            if sum([x * y for x, y in zip(u, v)]) == 0:\n",
    "                if set([first[0], second[0], third[0]]) not in print_sets:\n",
    "                    print first[0], second[0], third[0]\n",
    "                    print_sets.append(set([first[0], second[0], third[0]]))"
   ]
  },
  {
   "cell_type": "code",
   "execution_count": null,
   "metadata": {
    "collapsed": true
   },
   "outputs": [],
   "source": []
  }
 ],
 "metadata": {
  "kernelspec": {
   "display_name": "Python 2",
   "language": "python",
   "name": "python2"
  },
  "language_info": {
   "codemirror_mode": {
    "name": "ipython",
    "version": 2
   },
   "file_extension": ".py",
   "mimetype": "text/x-python",
   "name": "python",
   "nbconvert_exporter": "python",
   "pygments_lexer": "ipython2",
   "version": "2.7.11"
  }
 },
 "nbformat": 4,
 "nbformat_minor": 0
}
