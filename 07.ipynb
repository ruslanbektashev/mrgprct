{
 "cells": [
  {
   "cell_type": "markdown",
   "metadata": {},
   "source": [
    "##Общий префикс\n",
    "Напишите функцию, вычисляющую длину наибольшего общего префикса двух строк. Префиксом строки называется любая начальная подстрока этой строки.\n",
    "#####Формат ввода:\n",
    "На входе даны две текстовых строки, состоящие из маленьких латинских букв алфавита. Длина строк не превосходит $1000$ символов.\n",
    "#####Формат вывода:\n",
    "Напечатайте длину наибольшего общего префикса этих строк.\n",
    "###Пример\n",
    "#####Ввод:\n",
    "---\n",
    "    apple\n",
    "    apricot\n",
    "---\n",
    "#####Вывод:\n",
    "---\n",
    "    2\n",
    "---"
   ]
  },
  {
   "cell_type": "code",
   "execution_count": 1,
   "metadata": {
    "collapsed": false
   },
   "outputs": [
    {
     "name": "stdout",
     "output_type": "stream",
     "text": [
      "apple\n",
      "apricot\n",
      "2\n"
     ]
    }
   ],
   "source": [
    "string1 = raw_input()\n",
    "string2 = raw_input()\n",
    "\n",
    "i = 0\n",
    "while string1[:i + 1] == string2[:i + 1] and i < len(string1) and i < len(string2):\n",
    "    i += 1\n",
    "\n",
    "print i"
   ]
  },
  {
   "cell_type": "markdown",
   "metadata": {},
   "source": [
    "---\n",
    "##Список квадратов\n",
    "Вася продолжает изучение циклов и теперь решает задачу про последовательность квадратов. Она состоит в том, чтобы вывести все квадраты натуральных чисел, не превосходящие некоторой границы.\n",
    "#####Формат ввода:\n",
    "Единственная строка входного файла содержит ровно одно число $n, 1 ≤ n ≤ 10^9$.\n",
    "#####Формат вывода:\n",
    "Выведите в одну строку в порядке возрастания через пробел все квадраты натуральных чисел, не превосходящие $n$.\n",
    "###Пример\n",
    "#####Ввод:\n",
    "---\n",
    "    25\n",
    "---\n",
    "#####Вывод:\n",
    "---\n",
    "    1 4 9 16 25 \n",
    "---"
   ]
  },
  {
   "cell_type": "code",
   "execution_count": 3,
   "metadata": {
    "collapsed": false
   },
   "outputs": [
    {
     "name": "stdout",
     "output_type": "stream",
     "text": [
      "25\n",
      "1 4 9 16 25\n"
     ]
    }
   ],
   "source": [
    "n = int(raw_input())\n",
    "\n",
    "number = 1\n",
    "while number ** 2 <= n:\n",
    "    print number ** 2,\n",
    "    number += 1"
   ]
  },
  {
   "cell_type": "markdown",
   "metadata": {},
   "source": [
    "---\n",
    "##Все буквы слов\n",
    "Вам даны слова. Выведите в алфавитном порядке список букв, присутствующих хотя бы в одном слове.\n",
    "#####Формат ввода:\n",
    "На вход поступают слова (по одному в строке), состоящие из маленьких латинских букв алфавита. Длина слов не превосходит $100$ символов, а количество слов не превосходит $1000$.\n",
    "#####Формат вывода:\n",
    "Выведите в алфавитном порядке без пробелов список букв, присутствующих хотя бы в одном слове.\n",
    "###Пример\n",
    "#####Ввод:\n",
    "---\n",
    "    alpha\n",
    "    beta\n",
    "    gamma\n",
    "    delta\n",
    "    epsilon\n",
    "---\n",
    "#####Вывод:\n",
    "---\n",
    "    abdeghilmnopst\n",
    "---"
   ]
  },
  {
   "cell_type": "code",
   "execution_count": 4,
   "metadata": {
    "collapsed": false
   },
   "outputs": [
    {
     "name": "stdout",
     "output_type": "stream",
     "text": [
      "alpha\n",
      "beta\n",
      "gamma\n",
      "delta\n",
      "epsilon\n",
      "\n",
      "abdeghilmnopst\n"
     ]
    }
   ],
   "source": [
    "letters = set()\n",
    "\n",
    "while True:\n",
    "    try:\n",
    "        string = raw_input()\n",
    "    except EOFError:\n",
    "        break\n",
    "    if string:\n",
    "        for character in string:\n",
    "            letters.add(character)\n",
    "    else:\n",
    "        break\n",
    "    \n",
    "print \"\".join(sorted(letters))"
   ]
  },
  {
   "cell_type": "markdown",
   "metadata": {},
   "source": [
    "---\n",
    "##Оценки \n",
    "Преподаватель Васиной группы наконец-то начал объявлять оценки за прошедшие работы. Так как важен не набор оценок, а средняя, то после каждого объявления студент, которому сообщили новую оценку, хочет знать среднее своих оценок по уже объявленным работам. Напишите программу, которая избавит Васиных одногруппников от лишнего ручного счета.\n",
    "#####Формат ввода:\n",
    "Первая строка входного файла - целое число $N$ от $0$ до $10^5$ - общеее количество оценок.\n",
    "Далее идут $N$ строк, каждая из которых содержит фамилию очередного студента (строка из латинских букв длиной от $1$ до $20$ символов) и его оценку - целое число от $0$ до $10^9$.\n",
    "#####Формат вывода:\n",
    "Выведите $N$ строк. $k$-я строка должна содержать среднюю оценку студента, которому была выставлена $k$-я оценка в исходном списке, после объявления $k$ оценок. Средняя оценка округляется до ближайшего целого вниз (то есть, от нее отбрасывается дробная часть).\n",
    "###Пример\n",
    "#####Ввод:\n",
    "---\n",
    "    5\n",
    "    petrov 3\n",
    "    sidorov 8\n",
    "    petrov 5\n",
    "    petrov 3\n",
    "    ivanov 9\n",
    "---\n",
    "#####Вывод:\n",
    "---\n",
    "    3\n",
    "    8\n",
    "    4\n",
    "    3\n",
    "    9\n",
    "---"
   ]
  },
  {
   "cell_type": "code",
   "execution_count": 5,
   "metadata": {
    "collapsed": false
   },
   "outputs": [
    {
     "name": "stdout",
     "output_type": "stream",
     "text": [
      "5\n",
      "petrov 3\n",
      "sidorov 8\n",
      "petrov 5\n",
      "petrov 3\n",
      "ivanov 9\n",
      "3\n",
      "8\n",
      "4\n",
      "3\n",
      "9\n"
     ]
    }
   ],
   "source": [
    "N = int(raw_input())\n",
    "\n",
    "marks = {}\n",
    "output = []\n",
    "\n",
    "while N > 0:\n",
    "    N -= 1\n",
    "    string = raw_input().split()\n",
    "    if string[0] in marks:\n",
    "        marks[string[0]].append(int(string[1]))\n",
    "    else:\n",
    "        marks[string[0]] = [int(string[1])]\n",
    "    output.append(str(sum(marks[string[0]]) / len(marks[string[0]])))\n",
    "    \n",
    "print \"\\n\".join(output)"
   ]
  },
  {
   "cell_type": "code",
   "execution_count": null,
   "metadata": {
    "collapsed": true
   },
   "outputs": [],
   "source": []
  }
 ],
 "metadata": {
  "kernelspec": {
   "display_name": "Python 2",
   "language": "python",
   "name": "python2"
  },
  "language_info": {
   "codemirror_mode": {
    "name": "ipython",
    "version": 2
   },
   "file_extension": ".py",
   "mimetype": "text/x-python",
   "name": "python",
   "nbconvert_exporter": "python",
   "pygments_lexer": "ipython2",
   "version": "2.7.10"
  }
 },
 "nbformat": 4,
 "nbformat_minor": 0
}
