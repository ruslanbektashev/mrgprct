{
 "cells": [
  {
   "cell_type": "markdown",
   "metadata": {},
   "source": [
    "## Очепятки  \n",
    "Сейчас мы ненадолго отправимся в детство Васи и поностальгируем.\n",
    "Дело в том, что Вася обнаружил тетрадку со своими устными диктантами по математике за первый класс. Сейчас он смотрит на страницу, посвященную системам счисления. Но что же это такое? В записи двоичного числа он увидел цифру $3$.\n",
    "Вася был так удивлен, что теперь хочет найти ошибки во всех своих записях за это занятие. Помогите ему!\n",
    "##### Формат ввода:\n",
    "В первой строке входного файла указано основание системы счисления для очередного числа. Само основание задано в десятичной системе счисления. Основание системы счисления не превышает $36$. Во второй строке — тестируемое число, состоящее из десятичных цифр и заглавных букв латинского алфавита.\n",
    "##### Формат вывода:\n",
    "Выведите YES, если это действительно неотрицательное целое число в заданной системе счисления и NO в противном случае.\n",
    "### Пример\n",
    "##### Ввод:\n",
    "---\n",
    "    3\n",
    "    19\n",
    "---\n",
    "##### Вывод:\n",
    "---\n",
    "    NO\n",
    "---"
   ]
  },
  {
   "cell_type": "code",
   "execution_count": 1,
   "metadata": {
    "collapsed": false
   },
   "outputs": [
    {
     "name": "stdout",
     "output_type": "stream",
     "text": [
      "3\n",
      "19\n",
      "NO\n"
     ]
    }
   ],
   "source": [
    "base = int(raw_input())\n",
    "string = raw_input().strip()\n",
    "\n",
    "def check_number(string, base):\n",
    "    digits = \"\"\n",
    "    for character in xrange(ord('0'), ord('9') + 1):\n",
    "        digits += chr(character)\n",
    "    for character in xrange(ord('A'), ord('Z') + 1):\n",
    "        digits += chr(character)\n",
    "    for character in string:\n",
    "        if character not in digits[:base]:\n",
    "            return False\n",
    "    return True\n",
    "    \n",
    "if check_number(string, base):\n",
    "    print \"YES\"\n",
    "else:\n",
    "    print \"NO\""
   ]
  },
  {
   "cell_type": "markdown",
   "metadata": {},
   "source": [
    "---\n",
    "## Проверка контрольной\n",
    "Васю, как лучшего ученика в 11ом математическом классе, попросили заменить преподавателя по математике у пятого класса, потому что тот не мог присутствовать на контрольной, которая была запланирована у пятиклашек уже давно. Вася вызвался не только последить за классом, пока те будут писать контрольную, но и проверить их решения.\n",
    "Одно из заданий — перевести обыкновенную дробь в десятичную. Помогите Васе избежать рутинных вычислений и автоматизировать проверку!\n",
    "##### Формат ввода:\n",
    "Первая строка входного файла содержит натуральное число — числитель обыкновенной дроби. Вторая строка входного файла содержит натуральное число — знаменатель этой дроби.\n",
    "##### Формат вывода:\n",
    "Выведите десятичную дробь, равную данной обыкновенной дроби. Если дробь конечная, выведите ее целиком. Если же она периодична, выведите ее в стандартном формате: период выведите в круглых скобках. Ноль после точки писать не надо!\n",
    "### Пример\n",
    "##### Ввод:\n",
    "---\n",
    "    10\n",
    "    6\n",
    "---\n",
    "##### Вывод:\n",
    "---\n",
    "    1.(6)\n",
    "---"
   ]
  },
  {
   "cell_type": "code",
   "execution_count": 4,
   "metadata": {
    "collapsed": false
   },
   "outputs": [
    {
     "name": "stdout",
     "output_type": "stream",
     "text": [
      "10\n",
      "6\n",
      "1.(6)\n"
     ]
    }
   ],
   "source": [
    "numerator = int(raw_input())\n",
    "denominator = int(raw_input())\n",
    "\n",
    "def print_fraction(numerator, denominator):\n",
    "    whole = str(numerator / denominator) + '.'\n",
    "    remainder = numerator % denominator\n",
    "    remainders = set([remainder])\n",
    "    fraction = \"\"\n",
    "    while remainder != 0:\n",
    "        remainder *= 10\n",
    "        fraction += str(remainder / denominator)\n",
    "        remainder %= denominator\n",
    "        if remainder in remainders:\n",
    "            fraction = '(' + fraction + ')'\n",
    "            break\n",
    "        else:\n",
    "            remainders.add(remainder)\n",
    "    return whole + fraction\n",
    "\n",
    "print print_fraction(numerator, denominator)"
   ]
  },
  {
   "cell_type": "markdown",
   "metadata": {},
   "source": [
    "---\n",
    "## Война и мир\n",
    "Вася всерьез занялся обработкой текстов. Теперь он хочет по томику Войны и мира узнать, какие слова в нем — самые частотные. Его друг лингвист Петя уже подсказывает, что это будут предлоги и союзы, но Вася сомневается. Развейте его сомнения!\n",
    "##### Формат ввода:\n",
    "Входной файл содержит текст, записанный латинскими буквами, цифрами и знаками препинания. Все непробельные символы, отличные от латинских символов, следует удалить из текста перед подсчетом частот.\n",
    "##### Формат вывода:\n",
    "Для всех словоформ, приведенных к нижнему регистру, выведите число их вхождений в исходный текст, по одному в строке, в алфавитном порядке.\n",
    "### Пример\n",
    "##### Ввод:\n",
    "---\n",
    "    War and Peace is a novel by the Russian author Leo Tolstoy, first published in 1869. The work is epic in scale and is regarded as one of the most important works of world literature. It is considered as Tolstoy's finest literary achievement, along with his other major prose work, Anna Karenina.\n",
    "---\n",
    "##### Вывод:\n",
    "---\n",
    "    a 1\n",
    "    achievement 1\n",
    "    along 1\n",
    "    and 2\n",
    "    anna 1\n",
    "    as 2\n",
    "    author 1\n",
    "    by 1\n",
    "    considered 1\n",
    "    epic 1\n",
    "    finest 1\n",
    "    first 1\n",
    "    his 1\n",
    "    important 1\n",
    "    in 2\n",
    "    is 4\n",
    "    it 1\n",
    "    karenina 1\n",
    "    leo 1\n",
    "    literary 1\n",
    "    literature 1\n",
    "    major 1\n",
    "    most 1\n",
    "    novel 1\n",
    "    of 2\n",
    "    one 1\n",
    "    other 1\n",
    "    peace 1\n",
    "    prose 1\n",
    "    published 1\n",
    "    regarded 1\n",
    "    russian 1\n",
    "    scale 1\n",
    "    the 3\n",
    "    tolstoy 1\n",
    "    tolstoys 1\n",
    "    war 1\n",
    "    with 1\n",
    "    work 2\n",
    "    works 1\n",
    "    world 1\n",
    "---"
   ]
  },
  {
   "cell_type": "code",
   "execution_count": 5,
   "metadata": {
    "collapsed": false
   },
   "outputs": [
    {
     "name": "stdout",
     "output_type": "stream",
     "text": [
      "War and Peace is a novel by the Russian author Leo Tolstoy, first published in 1869. The work is epic in scale and is regarded as one of the most important works of world literature. It is considered as Tolstoy's finest literary achievement, along with his other major prose work, Anna Karenina.\n",
      "a 1\n",
      "achievement 1\n",
      "along 1\n",
      "and 2\n",
      "anna 1\n",
      "as 2\n",
      "author 1\n",
      "by 1\n",
      "considered 1\n",
      "epic 1\n",
      "finest 1\n",
      "first 1\n",
      "his 1\n",
      "important 1\n",
      "in 2\n",
      "is 4\n",
      "it 1\n",
      "karenina 1\n",
      "leo 1\n",
      "literary 1\n",
      "literature 1\n",
      "major 1\n",
      "most 1\n",
      "novel 1\n",
      "of 2\n",
      "one 1\n",
      "other 1\n",
      "peace 1\n",
      "prose 1\n",
      "published 1\n",
      "regarded 1\n",
      "russian 1\n",
      "scale 1\n",
      "the 3\n",
      "tolstoy 1\n",
      "tolstoys 1\n",
      "war 1\n",
      "with 1\n",
      "work 2\n",
      "works 1\n",
      "world 1\n"
     ]
    }
   ],
   "source": [
    "import re\n",
    "\n",
    "string = raw_input()\n",
    "\n",
    "words = {}\n",
    "string = re.sub('[^a-zA-Z\\s]', '', string)\n",
    "\n",
    "for word in re.findall(\"[a-zA-Z']+\", string):\n",
    "    word = word.lower()\n",
    "    if word in words:\n",
    "        words[word] += 1\n",
    "    else:\n",
    "        words[word] = 1\n",
    "        \n",
    "for key in sorted(words):\n",
    "    print key, words[key]"
   ]
  },
  {
   "cell_type": "markdown",
   "metadata": {},
   "source": [
    "---\n",
    "## Война и мир-4\n",
    "Вася привык читать тексты с экрана, но иногда форматирование текста ему очень не нравится. В частности, ему редко нравится, как текст разделен на строки. Поэтому Вася решил написать перенос самостоятельно. Он считает, что идеальная ширина текста равняется $80$ символам, поэтому если очередное слово не укладывается в эти пределы, то он его переносит на следующую строку. Помогите Васе написать такую программу.\n",
    "##### Формат ввода:\n",
    "Ровно одна строка с текстом, который надо отформатировать. Текст состоит из латинских символов, цифр и знаков препинания. Удалять символы, отличные от латинских символов, не требуется. Разбиение на слова можно получить с помощью метода <code>split</code>: <code>s.split()</code>\n",
    "##### Формат вывода:\n",
    "Выведите текст, разбитый на строки по приведенному правилу.\n",
    "### Пример\n",
    "##### Ввод:\n",
    "---\n",
    "    War and Peace is a novel by the Russian author Leo Tolstoy, first published in 1869. The work is epic in scale and is regarded as one of the most important works of world literature. It is considered as Tolstoy's finest literary achievement, along with his other major prose work, Anna Karenina.\n",
    "---\n",
    "##### Вывод:\n",
    "---\n",
    "    War and Peace is a novel by the Russian author Leo Tolstoy, first published in\n",
    "    1869. The work is epic in scale and is regarded as one of the most important\n",
    "    works of world literature. It is considered as Tolstoy's finest literary\n",
    "    achievement, along with his other major prose work, Anna Karenina.\n",
    "---"
   ]
  },
  {
   "cell_type": "code",
   "execution_count": 6,
   "metadata": {
    "collapsed": false
   },
   "outputs": [
    {
     "name": "stdout",
     "output_type": "stream",
     "text": [
      " War and Peace is a novel by the Russian author Leo Tolstoy, first published in 1869. The work is epic in scale and is regarded as one of the most important works of world literature. It is considered as Tolstoy's finest literary achievement, along with his other major prose work, Anna Karenina.\n",
      "War and Peace is a novel by the Russian author Leo Tolstoy, first published in \n",
      "1869. The work is epic in scale and is regarded as one of the most important \n",
      "works of world literature. It is considered as Tolstoy's finest literary \n",
      "achievement, along with his other major prose work, Anna Karenina.\n"
     ]
    }
   ],
   "source": [
    "words = raw_input().split()\n",
    "\n",
    "width = 0\n",
    "\n",
    "for word in words:\n",
    "    if width + len(word) > 80:\n",
    "        width = len(word) + 1\n",
    "        print \"\\n\" + word,\n",
    "    else:\n",
    "        width += len(word) + 1\n",
    "        print word,"
   ]
  },
  {
   "cell_type": "markdown",
   "metadata": {},
   "source": [
    "## Палиндромы-3\n",
    "Вася продолжает изучать палиндромы и искать их вокруг себя в повседневной жизни, вот только нигде их не находит. Тогда он решает, что не стоит искать палиндромы, когда их можно делать! Вася задался вопросом: какое минимальное количество символов нужно приписать к строке слева или справа так, чтобы она стала палиндромом.\n",
    "##### Формат ввода:\n",
    "Строка, состоящая из строчных латинских символов, длина строки не превосходит $1000$.\n",
    "##### Формат вывода:\n",
    "Выведите минимальное количество символов, которое необходимо дописать.\n",
    "### Пример\n",
    "##### Ввод:\n",
    "---\n",
    "    bcba\n",
    "---\n",
    "##### Вывод:\n",
    "---\n",
    "    1\n",
    "---"
   ]
  },
  {
   "cell_type": "code",
   "execution_count": 7,
   "metadata": {
    "collapsed": false
   },
   "outputs": [
    {
     "name": "stdout",
     "output_type": "stream",
     "text": [
      "bcba\n",
      "1\n"
     ]
    }
   ],
   "source": [
    "string = raw_input()\n",
    "\n",
    "i = 0\n",
    "right = string\n",
    "left = string\n",
    "\n",
    "while right[::-1] != right and left[::-1] != left: # пока ОБА слова НЕ палиндромы\n",
    "    right = string + string[:i + 1][::-1] # дописываем к введенной строке справа ее начальный срез в обратном порядке\n",
    "    left = string[::-1][:i + 1] + string  # дописываем к введенной строке слева ее хвостовой срез в обратном порядке\n",
    "    i = i + 1\n",
    "\n",
    "print i"
   ]
  },
  {
   "cell_type": "markdown",
   "metadata": {},
   "source": [
    "## Эратосфен \n",
    "Вам требуется составить список простых чисел, не превосходящих $N$.\n",
    "##### Формат ввода:\n",
    "Единственная строка содержит натуральное число $N$.\n",
    "##### Формат вывода:\n",
    "Выведите список всех простых чисел, не превосходящих $N$, в порядке возрастания.\n",
    "### Пример\n",
    "##### Ввод:\n",
    "---\n",
    "    10\n",
    "---\n",
    "##### Вывод:\n",
    "---\n",
    "    2 3 5 7\n",
    "---"
   ]
  },
  {
   "cell_type": "code",
   "execution_count": 9,
   "metadata": {
    "collapsed": false
   },
   "outputs": [
    {
     "name": "stdout",
     "output_type": "stream",
     "text": [
      "10\n",
      "2 3 5 7\n"
     ]
    }
   ],
   "source": [
    "N = int(raw_input())\n",
    "\n",
    "def primes(N):\n",
    "    numbers = range(2, N + 1)\n",
    "    for prime in numbers:\n",
    "        for composite in xrange(prime ** 2, N + 1, prime):\n",
    "            if composite in numbers:\n",
    "                numbers.remove(composite)\n",
    "    return numbers\n",
    "\n",
    "print \" \".join([str(prime) for prime in primes(N)])"
   ]
  },
  {
   "cell_type": "code",
   "execution_count": null,
   "metadata": {
    "collapsed": true
   },
   "outputs": [],
   "source": []
  }
 ],
 "metadata": {
  "kernelspec": {
   "display_name": "Python 2",
   "language": "python",
   "name": "python2"
  },
  "language_info": {
   "codemirror_mode": {
    "name": "ipython",
    "version": 2
   },
   "file_extension": ".py",
   "mimetype": "text/x-python",
   "name": "python",
   "nbconvert_exporter": "python",
   "pygments_lexer": "ipython2",
   "version": "2.7.10"
  }
 },
 "nbformat": 4,
 "nbformat_minor": 0
}
