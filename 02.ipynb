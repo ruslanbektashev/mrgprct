{
 "cells": [
  {
   "cell_type": "markdown",
   "metadata": {},
   "source": [
    "## Срезы\n",
    "##### Формат ввода:\n",
    "Дана достаточно большая строка.\n",
    "##### Формат вывода:\n",
    "Сначала выведите третий символ этой строки.  \n",
    "Во второй строке выведите предпоследний символ этой строки.  \n",
    "В третьей строке выведите первые пять символов этой строки.  \n",
    "В четвертой строке выведите всю строку, кроме последних двух символов.  \n",
    "В пятой строке выведите все символы с четными индексами (считая, что индексация начинается с $0$, поэтому символы выводятся начиная с первого).  \n",
    "В шестой строке выведите все символы с нечетными индексами, то есть начиная со второго символа строки.  \n",
    "В седьмой строке выведите все символы в обратном порядке.  \n",
    "В восьмой строке выведите все символы строки через один в обратном порядке, начиная с последнего.  \n",
    "В девятой строке выведите длину данной строки.  \n",
    "### Пример\n",
    "##### Ввод:\n",
    "---\n",
    "    Abrakadabra\n",
    "---\n",
    "##### Вывод:\n",
    "---\n",
    "    r\n",
    "    r\n",
    "    Abrak\n",
    "    Abrakadab\n",
    "    Arkdba\n",
    "    baaar\n",
    "    arbadakarbA\n",
    "    abdkrA\n",
    "    11\n",
    "---"
   ]
  },
  {
   "cell_type": "code",
   "execution_count": 2,
   "metadata": {
    "collapsed": false
   },
   "outputs": [
    {
     "name": "stdout",
     "output_type": "stream",
     "text": [
      "Abrakadabra\n",
      "r\n",
      "r\n",
      "Abrak\n",
      "Abrakadab\n",
      "Arkdba\n",
      "baaar\n",
      "arbadakarbA\n",
      "abdkrA\n",
      "11\n"
     ]
    }
   ],
   "source": [
    "string = raw_input()\n",
    "print string[2] # один параметр в квадратных скобках - индекс элемента или символа\n",
    "print string[-2] # поддерживается обратная индексация: -1 это последний элемент, -2 предпоследний и т.д.\n",
    "print string[:5] # второй параметр определяет до какого символа или элемента срезать строку или список\n",
    "print string[:-2] # второй параметр тоже может быть обратным\n",
    "print string[::2] # третий параметр - шаг выборки, здесь - через один (все четные)\n",
    "print string[1::2] # указав начало среза на 2 символ, срез получится по нечетным символам\n",
    "print string[::-1] # отрицательный шаг определит срез в обратном порядке (от конца к началу)\n",
    "print string[::-2]\n",
    "print len(string) # встроенная функция len вычисляет размер строки в символах и размер контейнеров в элементах"
   ]
  },
  {
   "cell_type": "markdown",
   "metadata": {},
   "source": [
    "---\n",
    "## Количество слов\n",
    "Дана строка, состоящая из слов, разделенных пробелами. Определите, сколько в ней слов. Используйте для решения задачи метод <code>count</code>.\n",
    "##### Формат ввода:\n",
    "Вводится строка.\n",
    "##### Формат вывода:\n",
    "Выведите ответ на задачу.\n",
    "### Пример\n",
    "##### Ввод:\n",
    "---\n",
    "    Hello world\n",
    "---\n",
    "##### Вывод:\n",
    "---\n",
    "    2\n",
    "---"
   ]
  },
  {
   "cell_type": "code",
   "execution_count": 3,
   "metadata": {
    "collapsed": false
   },
   "outputs": [
    {
     "name": "stdout",
     "output_type": "stream",
     "text": [
      "Hello world\n",
      "2\n"
     ]
    }
   ],
   "source": [
    "words = raw_input().split()\n",
    "print len(words)"
   ]
  },
  {
   "cell_type": "markdown",
   "metadata": {},
   "source": [
    "---\n",
    "## Переставить слова\n",
    "Дана строка, состоящая ровно из двух слов, разделенных пробелом. Переставьте эти слова местами. Результат запишите в строку и выведите получившуюся строку.\n",
    "При решении этой задачи нельзя пользоваться циклами и инструкцией <code>if</code>.\n",
    "##### Формат ввода:\n",
    "Вводится строка.\n",
    "##### Формат вывода:\n",
    "Выведите ответ на задачу.\n",
    "### Пример\n",
    "##### Ввод:\n",
    "---\n",
    "    Hello, world!\n",
    "---\n",
    "##### Вывод:\n",
    "---\n",
    "    world! Hello,\n",
    "---"
   ]
  },
  {
   "cell_type": "code",
   "execution_count": 4,
   "metadata": {
    "collapsed": false
   },
   "outputs": [
    {
     "name": "stdout",
     "output_type": "stream",
     "text": [
      "Hello, world!\n",
      "world! Hello,\n"
     ]
    }
   ],
   "source": [
    "words = raw_input().split()\n",
    "print ' '.join(words[::-1]) # метод строки join объединяет элементы списка при помощи строки, на которой он был вызван"
   ]
  },
  {
   "cell_type": "markdown",
   "metadata": {},
   "source": [
    "---\n",
    "## Найти подстроку\n",
    "Дана строка. Если в этом числе буква f встречается только один раз, выведите её индекс. Если она встречается два и более раз, выведите индекс её первого и последнего появления. Если буква f в данной строке не встречается, ничего не выводите.\n",
    "При решении этой задачи нельзя использовать метод <code>count</code> и циклы.\n",
    "##### Формат ввода:\n",
    "Вводится строка.\n",
    "##### Формат вывода:\n",
    "Выведите ответ на задачу.\n",
    "### Пример\n",
    "##### Ввод:\n",
    "---\n",
    "    office\n",
    "---\n",
    "##### Вывод:\n",
    "---\n",
    "    1 2\n",
    "---"
   ]
  },
  {
   "cell_type": "code",
   "execution_count": 7,
   "metadata": {
    "collapsed": false
   },
   "outputs": [
    {
     "name": "stdout",
     "output_type": "stream",
     "text": [
      "office\n",
      "1 2\n"
     ]
    }
   ],
   "source": [
    "string = raw_input()\n",
    "first = string.find('f') # метод строки find возвращает индекс начала первой подпоследовательности \n",
    "if first != -1:          # символов из аргумента, если таковые имеются в строке\n",
    "    print first,\n",
    "    last = string.rfind('f') # метод строки rfind возвращает индекс начала последней подпоследовательности\n",
    "    if last != -1:\n",
    "        print last"
   ]
  },
  {
   "cell_type": "markdown",
   "metadata": {},
   "source": [
    "---\n",
    "## Удаление фрагмента\n",
    "Дана строка, в которой буква h встречается минимум два раза. Удалите из этой строки первое и последнее вхождение буквы h, а также все символы, находящиеся между ними.\n",
    "##### Формат ввода:\n",
    "Вводится строка.\n",
    "##### Формат вывода:\n",
    "Выведите ответ на задачу.\n",
    "### Пример\n",
    "##### Ввод:\n",
    "---\n",
    "    In the hole in the ground there lived a hobbit\n",
    "---\n",
    "##### Вывод:\n",
    "---\n",
    "    In tobbit\n",
    "---"
   ]
  },
  {
   "cell_type": "code",
   "execution_count": 10,
   "metadata": {
    "collapsed": false
   },
   "outputs": [
    {
     "name": "stdout",
     "output_type": "stream",
     "text": [
      "In the hole in the ground there lived a hobbit\n",
      "In tobbit\n"
     ]
    }
   ],
   "source": [
    "string = raw_input()\n",
    "first = string.find('h')\n",
    "last = string.rfind('h')\n",
    "print string[:first] + string[last + 1:]"
   ]
  },
  {
   "cell_type": "markdown",
   "metadata": {},
   "source": [
    "---\n",
    "## Палиндромы\n",
    "Вася хочет проверить, верно ли, что данная текстовая строка читается слева направо и справа налево одинаково. Помогите Васе написать такую программу.\n",
    "##### Формат ввода:\n",
    "На вход поступает одна строка.\n",
    "##### Формат вывода:\n",
    "Выведите YES, если строка является палиндромом, и NO в противном случае.\n",
    "### Пример\n",
    "##### Ввод:\n",
    "---\n",
    "    abracadabra\n",
    "---\n",
    "##### Вывод:\n",
    "---\n",
    "    NO\n",
    "---"
   ]
  },
  {
   "cell_type": "code",
   "execution_count": 11,
   "metadata": {
    "collapsed": false
   },
   "outputs": [
    {
     "name": "stdout",
     "output_type": "stream",
     "text": [
      "abracadabra\n",
      "NO\n"
     ]
    }
   ],
   "source": [
    "string = raw_input()\n",
    "if string == string[::-1]:\n",
    "    print \"YES\"\n",
    "else:\n",
    "    print \"NO\""
   ]
  },
  {
   "cell_type": "code",
   "execution_count": null,
   "metadata": {
    "collapsed": true
   },
   "outputs": [],
   "source": []
  }
 ],
 "metadata": {
  "kernelspec": {
   "display_name": "Python 2",
   "language": "python",
   "name": "python2"
  },
  "language_info": {
   "codemirror_mode": {
    "name": "ipython",
    "version": 2
   },
   "file_extension": ".py",
   "mimetype": "text/x-python",
   "name": "python",
   "nbconvert_exporter": "python",
   "pygments_lexer": "ipython2",
   "version": "2.7.10"
  }
 },
 "nbformat": 4,
 "nbformat_minor": 0
}
