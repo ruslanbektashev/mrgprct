{
 "cells": [
  {
   "cell_type": "markdown",
   "metadata": {},
   "source": [
    "## Длина отрезка\n",
    "Даны четыре действительных числа: $x_1, y_1, x_2, y_2$. Напишите функцию <code>distance(x1, y1, x2, y2)</code>, вычисляющую расстояние между точкой $(x_1, y_1)$ и $(x_2, y_2)$.\n",
    "##### Формат ввода:\n",
    "Вводятся четыре действительных числа.\n",
    "##### Формат вывода:\n",
    "Выведите результат работы функции <code>distance</code>.\n",
    "### Пример\n",
    "##### Ввод:\n",
    "---\n",
    "    0\n",
    "    0\n",
    "    1\n",
    "    1\n",
    "---\n",
    "##### Вывод:\n",
    "---\n",
    "    1.41421\n",
    "---"
   ]
  },
  {
   "cell_type": "code",
   "execution_count": null,
   "metadata": {
    "collapsed": true
   },
   "outputs": [],
   "source": [
    "#import math\n",
    "def distance (x1, y1, x2, y2):\n",
    "    return math.sqrt((x2 - x1)**2 + (y1 - y2)**2)\n",
    "\n",
    "x1 = float(raw_input())\n",
    "y1 = float(raw_input())\n",
    "x2 = float(raw_input())\n",
    "y2 = float(raw_input())\n",
    "\n",
    "print distance (x1, y1, x2, y2)"
   ]
  },
  {
   "cell_type": "markdown",
   "metadata": {},
   "source": [
    "---\n",
    "## Минимум из 4\n",
    "Напишите функцию <code>min4(a, b, c, d)</code>, вычисляющую минимум четырех чисел, которая не содержит инструкции <code>if</code>, а использует стандартную функцию <code>min</code>.\n",
    "##### Формат ввода:\n",
    "Вводятся четыре целых числа.\n",
    "##### Формат вывода:\n",
    "Выведите результат работы функции <code>min4</code>.\n",
    "### Пример\n",
    "##### Ввод:\n",
    "---\n",
    "    4\n",
    "    5\n",
    "    6\n",
    "    7\n",
    "---\n",
    "##### Вывод:\n",
    "---\n",
    "    4\n",
    "---"
   ]
  },
  {
   "cell_type": "code",
   "execution_count": 8,
   "metadata": {
    "collapsed": false
   },
   "outputs": [
    {
     "name": "stdout",
     "output_type": "stream",
     "text": [
      "9\n",
      "8\n",
      "3\n",
      "1\n",
      "1\n"
     ]
    }
   ],
   "source": [
    "def min4(a, b, c, d):\n",
    "    return min(a, b, c, d)\n",
    "\n",
    "a = int(raw_input())\n",
    "b = int(raw_input())\n",
    "c = int(raw_input())\n",
    "d = int(raw_input())\n",
    "\n",
    "print min4(a, b, c, d)"
   ]
  },
  {
   "cell_type": "markdown",
   "metadata": {},
   "source": [
    "---\n",
    "## Квадрат\n",
    "Даны два действительных числа $x$ и $y$. Проверьте, принадлежит ли точка с координатами $(x, y)$ квадрату с вершинами в точках $(0, 1), (1, 0), (0, -1)$ и $(-1, 0)$.\n",
    "Решение должно содержать функцию <code>point_is_in_square(x, y)</code>, возвращающую <code>True</code>, если точка принадлежит квадрату, и <code>False</code>, если не принадлежит. Основная программа должна прочитать координаты точки, вызвать функцию <code>point_is_in_square</code> и в зависимости от возвращенного значения вывести на экран необходимое сообщение.\n",
    "##### Формат ввода:\n",
    "Вводятся два действительных числа.\n",
    "##### Формат вывода:\n",
    "Если точка принадлежит квадрату, выведите слово YES, иначе выведите слово NO.\n",
    "### Пример\n",
    "##### Ввод:\n",
    "---\n",
    "    0\n",
    "    0\n",
    "---\n",
    "##### Вывод:\n",
    "---\n",
    "    YES\n",
    "---"
   ]
  },
  {
   "cell_type": "code",
   "execution_count": 4,
   "metadata": {
    "collapsed": false
   },
   "outputs": [
    {
     "name": "stdout",
     "output_type": "stream",
     "text": [
      "0.5\n",
      "-0.5000001\n",
      "NO\n"
     ]
    }
   ],
   "source": [
    "def point_is_in_square(x, y):\n",
    "    if abs(x) + abs(y) <= 1: # если сумма модулей не превосходит 1,\n",
    "        return True          # значит точка в квадрате (-1, 0), (0, 1), (1, 0), (0, -1)\n",
    "    return False \n",
    "\n",
    "x = float(raw_input())\n",
    "y = float(raw_input())\n",
    "\n",
    "if point_is_in_square(x, y):\n",
    "    print \"YES\"\n",
    "else:\n",
    "    print \"NO\""
   ]
  },
  {
   "cell_type": "markdown",
   "metadata": {},
   "source": [
    "---\n",
    "## Степень\n",
    "Дано действительное положительное число $a$ и целоe число $n$. \n",
    "Вычислите $a^n$. Решение оформите в виде функции <code>power(a, n)</code>.\n",
    "Стандартной функцией возведения в степень пользоваться нельзя.\n",
    "##### Формат ввода\n",
    "Вводится действительное положительное число $a, 0 ≤ a ≤ 10$ и целоe число $n, |n| ≤ 105$.\n",
    "##### Формат вывода\n",
    "Выведите $a^n$.\n",
    "### Пример\n",
    "##### Ввод:\n",
    "---\n",
    "    2\n",
    "    4\n",
    "---\n",
    "##### Вывод:\n",
    "---\n",
    "    16\n",
    "---"
   ]
  },
  {
   "cell_type": "code",
   "execution_count": 11,
   "metadata": {
    "collapsed": false
   },
   "outputs": [
    {
     "name": "stdout",
     "output_type": "stream",
     "text": [
      "4\n",
      "2\n",
      "16.0\n"
     ]
    }
   ],
   "source": [
    "def power(a, n):\n",
    "    negative = False\n",
    "    if n < 0: # если степень отрицательная, то считать как a^-n = 1 / a^n\n",
    "        n = -n\n",
    "        negative = True\n",
    "    an = 1.0\n",
    "    while n > 0:\n",
    "        an *= a\n",
    "        n -= 1\n",
    "    if not negative:\n",
    "        return an\n",
    "    return 1.0 / an\n",
    "\n",
    "a = float(raw_input())\n",
    "n = int(raw_input())\n",
    "\n",
    "print power(a, n)"
   ]
  },
  {
   "cell_type": "markdown",
   "metadata": {},
   "source": [
    "---\n",
    "## Числа Фибоначчи\n",
    "Упражняемся в рекурсии. Попробуем с ее помощью посчитать $n$-ое число Фибоначчи.\n",
    "##### Формат ввода\n",
    "Ровно одно натуральное число $n, 1 ≤ n ≤ 30$.\n",
    "##### Формат вывода\n",
    "Выведите $n$-ое число Фибоначчи.\n",
    "### Пример\n",
    "##### Ввод:\n",
    "---\n",
    "    8\n",
    "---\n",
    "##### Вывод:\n",
    "---\n",
    "    21\n",
    "---"
   ]
  },
  {
   "cell_type": "code",
   "execution_count": 29,
   "metadata": {
    "collapsed": false,
    "scrolled": true
   },
   "outputs": [
    {
     "name": "stdout",
     "output_type": "stream",
     "text": [
      "8\n",
      "21\n"
     ]
    }
   ],
   "source": [
    "def fib(a, b, n):\n",
    "    if n == 1: # рекурсивно падаем к n-ому числу Фибоначчи\n",
    "        return a\n",
    "    return fib(b, a + b, n - 1)\n",
    "\n",
    "n = int(raw_input())\n",
    "\n",
    "print fib(1, 1, n)"
   ]
  },
  {
   "cell_type": "markdown",
   "metadata": {},
   "source": [
    "---\n",
    "## Разворот последовательности\n",
    "Дана последовательность целых чисел, заканчивающаяся числом $0$. Выведите эту последовательность в обратном порядке.\n",
    "При решении этой задачи нельзя пользоваться массивами и прочими динамическими структурами данных. Рекурсия вам поможет.\n",
    "##### Формат ввода\n",
    "Вводится последовательность целых чисел, оканчивающаяся числом $0$.\n",
    "##### Формат вывода\n",
    "Выведите ответ на задачу.\n",
    "### Пример\n",
    "##### Ввод:\n",
    "---\n",
    "    1\n",
    "    2\n",
    "    3\n",
    "    0\n",
    "---\n",
    "##### Вывод:\n",
    "---\n",
    "    0\n",
    "    3\n",
    "    2\n",
    "    1\n",
    "---"
   ]
  },
  {
   "cell_type": "code",
   "execution_count": 12,
   "metadata": {
    "collapsed": false
   },
   "outputs": [
    {
     "name": "stdout",
     "output_type": "stream",
     "text": [
      "1\n",
      "2\n",
      "3\n",
      "\n",
      "3\n",
      "2\n",
      "1\n"
     ]
    }
   ],
   "source": [
    "def reverse_print():\n",
    "    try:\n",
    "        s = raw_input().strip()\n",
    "    except EOFError:\n",
    "        return\n",
    "    if s:\n",
    "        reverse_print() # падаем в рекурсию, считывая строки пока считывются\n",
    "        print int(s)    # поднимаемся из рекурсии, печатая в обратном порядке считанное\n",
    "    else:\n",
    "        return\n",
    "    \n",
    "reverse_print()"
   ]
  },
  {
   "cell_type": "code",
   "execution_count": null,
   "metadata": {
    "collapsed": true
   },
   "outputs": [],
   "source": []
  }
 ],
 "metadata": {
  "kernelspec": {
   "display_name": "Python 2",
   "language": "python",
   "name": "python2"
  },
  "language_info": {
   "codemirror_mode": {
    "name": "ipython",
    "version": 2
   },
   "file_extension": ".py",
   "mimetype": "text/x-python",
   "name": "python",
   "nbconvert_exporter": "python",
   "pygments_lexer": "ipython2",
   "version": "2.7.10"
  }
 },
 "nbformat": 4,
 "nbformat_minor": 0
}
