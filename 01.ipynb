{
 "cells": [
  {
   "cell_type": "markdown",
   "metadata": {},
   "source": [
    "Основные типы переменных:\n",
    "```python\n",
    "int # целое число\n",
    "float # действительное число\n",
    "str # строка\n",
    "list # список (массив)\n",
    "tuple # константный список (кортеж)\n",
    "set # множество\n",
    "dict # словарь (ассоциативный массив)\n",
    "```\n",
    "Переменные не объявляются заранее, как в C/C++ (не нужно в начале программы писать определения переменных, которые будешь использовать). Переменные объявляются при инициализации (присвоении ей какого-либо значения). У переменной есть тип, один из вышеуказанных, но ей можно присвоить любой другой тип данных или переменную, и ее тип изменится. Например:"
   ]
  },
  {
   "cell_type": "code",
   "execution_count": 2,
   "metadata": {
    "collapsed": false
   },
   "outputs": [
    {
     "name": "stdout",
     "output_type": "stream",
     "text": [
      "5 <type 'int'>\n",
      "5.1 <type 'float'>\n",
      "Рысёнок <type 'str'>\n"
     ]
    }
   ],
   "source": [
    "a = 5 # a имеет тип int\n",
    "print a, type(a) # встроенная функция type() выводит тип переменной, которая указана в круглых скобках\n",
    "\n",
    "a = 5.1 # a теперь станет float\n",
    "print a, type(a)\n",
    "\n",
    "a = 'Рысёнок' # a теперь str\n",
    "print a, type(a)"
   ]
  },
  {
   "cell_type": "markdown",
   "metadata": {},
   "source": [
    "С числами можно проделывать основные арифметические операции:\n",
    "```python\n",
    "+ # сложение\n",
    "- # вычитание\n",
    "* # умножение\n",
    "/ # деление\n",
    "% # деление по модулю\n",
    "```\n",
    "Результат операции зависит от типа операндов (помним, что арифметические операции - это отображения). Примеры:"
   ]
  },
  {
   "cell_type": "code",
   "execution_count": 3,
   "metadata": {
    "collapsed": false
   },
   "outputs": [
    {
     "name": "stdout",
     "output_type": "stream",
     "text": [
      "8\n",
      "2\n",
      "15\n",
      "1\n",
      "2\n"
     ]
    }
   ],
   "source": [
    "a = 5\n",
    "b = 3\n",
    "print a + b\n",
    "print a - b\n",
    "print a * b\n",
    "print a / b\n",
    "print a % b"
   ]
  },
  {
   "cell_type": "code",
   "execution_count": 4,
   "metadata": {
    "collapsed": false
   },
   "outputs": [
    {
     "name": "stdout",
     "output_type": "stream",
     "text": [
      "8.0\n",
      "2.0\n",
      "15.0\n",
      "1.66666666667\n",
      "2.0\n"
     ]
    }
   ],
   "source": [
    "a = 5.0\n",
    "b = 3.0\n",
    "print a + b\n",
    "print a - b\n",
    "print a * b\n",
    "print a / b\n",
    "print a % b"
   ]
  },
  {
   "cell_type": "code",
   "execution_count": 10,
   "metadata": {
    "collapsed": false
   },
   "outputs": [
    {
     "name": "stdout",
     "output_type": "stream",
     "text": [
      "РысёнокЕнот\n",
      "РысёнокРысёнокРысёнок\n"
     ]
    }
   ],
   "source": [
    "a = 'Рысёнок' # строка задается символами в одинарных\n",
    "b = \"Енот\" # или двойных кавычках\n",
    "print a + b\n",
    "print a * 3 # строку можно умножать только на число"
   ]
  },
  {
   "cell_type": "markdown",
   "metadata": {},
   "source": [
    "Списки - упорядоченные контейнеры элементов (массивы). Записываются так:\n",
    "```python\n",
    "[1, 2, 3, 'al tarf', 5.4] # в списке могут быть объекты различных типов\n",
    "[1, 2, 3, [1, 2, 'cat']] # в том числе и другие списки\n",
    "```"
   ]
  },
  {
   "cell_type": "code",
   "execution_count": 17,
   "metadata": {
    "collapsed": false
   },
   "outputs": [
    {
     "name": "stdout",
     "output_type": "stream",
     "text": [
      "[1, 2, 3]\n",
      "[1, 2, 3, 4]\n",
      "[1, 3, 4]\n"
     ]
    }
   ],
   "source": [
    "a_list = [1, 2, 3] # списки можно присваивать переменным\n",
    "print a_list\n",
    "\n",
    "a_list.append(4) # добавляем в конец списка новое значение\n",
    "print a_list\n",
    "\n",
    "a_list.remove(2) # удаляем существующее значение\n",
    "print a_list"
   ]
  },
  {
   "cell_type": "markdown",
   "metadata": {},
   "source": [
    "Кортежи - упорядоченные контейнеры элементов (массивы), которые нельзя изменять. Записываются так:\n",
    "```python\n",
    "(1, 2, 3, 'al tarf', 5.4) # в кортеже могут быть только объекты статических типов (str, int, float, tuple)\n",
    "(1, 2, 3, (1, 2, 'cat')) \n",
    "```"
   ]
  },
  {
   "cell_type": "code",
   "execution_count": 19,
   "metadata": {
    "collapsed": false
   },
   "outputs": [
    {
     "name": "stdout",
     "output_type": "stream",
     "text": [
      "(1, 2, 3)\n"
     ]
    },
    {
     "ename": "AttributeError",
     "evalue": "'tuple' object has no attribute 'append'",
     "output_type": "error",
     "traceback": [
      "\u001b[0;31m---------------------------------------------------------------------------\u001b[0m",
      "\u001b[0;31mAttributeError\u001b[0m                            Traceback (most recent call last)",
      "\u001b[0;32m<ipython-input-19-23d42235668f>\u001b[0m in \u001b[0;36m<module>\u001b[0;34m()\u001b[0m\n\u001b[1;32m      1\u001b[0m \u001b[0ma_tuple\u001b[0m \u001b[0;34m=\u001b[0m \u001b[0;34m(\u001b[0m\u001b[0;36m1\u001b[0m\u001b[0;34m,\u001b[0m \u001b[0;36m2\u001b[0m\u001b[0;34m,\u001b[0m \u001b[0;36m3\u001b[0m\u001b[0;34m)\u001b[0m\u001b[0;34m\u001b[0m\u001b[0m\n\u001b[1;32m      2\u001b[0m \u001b[0;32mprint\u001b[0m \u001b[0ma_tuple\u001b[0m\u001b[0;34m\u001b[0m\u001b[0m\n\u001b[0;32m----> 3\u001b[0;31m \u001b[0ma_tuple\u001b[0m\u001b[0;34m.\u001b[0m\u001b[0mappend\u001b[0m\u001b[0;34m(\u001b[0m\u001b[0;36m4\u001b[0m\u001b[0;34m)\u001b[0m \u001b[0;31m# нельзя изменять кортеж!\u001b[0m\u001b[0;34m\u001b[0m\u001b[0m\n\u001b[0m",
      "\u001b[0;31mAttributeError\u001b[0m: 'tuple' object has no attribute 'append'"
     ]
    }
   ],
   "source": [
    "a_tuple = (1, 2, 3)\n",
    "print a_tuple\n",
    "\n",
    "a_tuple.append(4) # нельзя изменять кортеж!"
   ]
  },
  {
   "cell_type": "markdown",
   "metadata": {},
   "source": [
    "Множества - неупорядоченные контейнеры элементов. Записываются так:\n",
    "```python\n",
    "{1, 2, 3, 'al tarf', 5.4} # в множестве могут быть объекты различных типов\n",
    "{1, 2, 3, (1, 2, 'cat'), [1,2]} \n",
    "```"
   ]
  },
  {
   "cell_type": "code",
   "execution_count": 25,
   "metadata": {
    "collapsed": false
   },
   "outputs": [
    {
     "name": "stdout",
     "output_type": "stream",
     "text": [
      "set([1, 2, 3]) set([2, 3, 5])\n",
      "set([1, 2, 3, 5])\n",
      "set([2, 3])\n",
      "set([1])\n",
      "set([1, 5])\n",
      "set([1, 2, 3, 4])\n",
      "set([2, 5])\n"
     ]
    }
   ],
   "source": [
    "a_set = {1, 2, 3}\n",
    "b_set = {2, 3, 5}\n",
    "print a_set, b_set\n",
    "\n",
    "a_union_b = a_set.union(b_set) # объединение двух множеств\n",
    "print a_union_b\n",
    "\n",
    "a_intersection_b = a_set.intersection(b_set) # пересечение двух множеств\n",
    "print a_intersection_b\n",
    "\n",
    "a_difference_b = a_set.difference(b_set) # разность двух множеств\n",
    "print a_difference_b\n",
    "\n",
    "a_symmetric_difference_b = a_set.symmetric_difference(b_set) # симметрическая разность\n",
    "print a_symmetric_difference_b\n",
    "\n",
    "a_set.add(4) # добавляем элемент в множество\n",
    "print a_set\n",
    "\n",
    "b_set.discard(3) # удаляем элемент из множества\n",
    "print b_set"
   ]
  },
  {
   "cell_type": "markdown",
   "metadata": {},
   "source": [
    "Словари - неупорядоченные контейнеры пар элементов (ключ: значение). Записываются так:\n",
    "```python\n",
    "{1: 546362, 2: 2929292, 3:(1, 13), 'al tarf': 'the star', 5.4: 0} # ключами могут быть только статические типы (str, int, float, tuple), значениями - все, что угодно\n",
    "{1: 'python', 2: 'is so', 3: 'flexible', (1, 2, 'cat'): 'meow', 'key': [1,2]} \n",
    "```"
   ]
  },
  {
   "cell_type": "code",
   "execution_count": 29,
   "metadata": {
    "collapsed": false
   },
   "outputs": [
    {
     "name": "stdout",
     "output_type": "stream",
     "text": [
      "{1: 2, 2: 3, 3: 4}\n",
      "{1: 2, 2: 3, 3: 4, 4: 5}\n",
      "{2: 3, 3: 4, 4: 5}\n"
     ]
    }
   ],
   "source": [
    "a_dict = {1: 2, 2: 3, 3: 4}\n",
    "print a_dict\n",
    "\n",
    "a_dict[4] = 5 # добавляем новую пару 4: 5 в словарь\n",
    "print a_dict\n",
    "\n",
    "a_dict.pop(1) # удаляем существующую пару по ключу\n",
    "print a_dict"
   ]
  },
  {
   "cell_type": "code",
   "execution_count": 33,
   "metadata": {
    "collapsed": false
   },
   "outputs": [
    {
     "name": "stdout",
     "output_type": "stream",
     "text": [
      "1 < 10\n",
      "1 in [1, 2, 3]\n",
      "1 != 0\n",
      "b in bcdef\n"
     ]
    }
   ],
   "source": [
    "if 1 < 10: # простое условие\n",
    "    print '1 < 10'\n",
    "\n",
    "a_list = [1, 2, 3]\n",
    "if 1 in a_list: # условие принадлежности левого элемента правому контейнеру (читается как \"если 1 в списке a_list\")\n",
    "    print '1 in', a_list\n",
    "    \n",
    "if 1 == 0: # условие с альтернативой\n",
    "    print '1 == 0'\n",
    "else:\n",
    "    print '1 != 0'\n",
    "    \n",
    "if 'a' in 'bcdef': # набор условий с альтернативой\n",
    "    print 'a in bcdef'\n",
    "elif 'b' in 'bcdef':\n",
    "    print 'b in bcdef'\n",
    "else:\n",
    "    print 'nothing in bcdef'"
   ]
  },
  {
   "cell_type": "code",
   "execution_count": 34,
   "metadata": {
    "collapsed": false
   },
   "outputs": [
    {
     "name": "stdout",
     "output_type": "stream",
     "text": [
      "[0, 1, 2, 3, 4, 5, 6, 7, 8, 9]\n",
      "[1, 2, 3, 4, 5, 6, 7, 8, 9]\n",
      "[1, 3, 5, 7, 9]\n",
      "0 1 2 3 4 5 6 7 8 9 M a r g a r i t a\n"
     ]
    }
   ],
   "source": [
    "print range(10) # встроенная функция range создает список из 10 элементов, начиная с 0 до 10 (не включительно)\n",
    "print range(1, 10) # если задано два параметра, то первый - с какого числа начинать\n",
    "print range(1, 10, 2) # если задано три параметра, то третий - с каким шагом перебирать числа\n",
    "\n",
    "for i in range(10): # простой цикл по индексам от 0 до 10 (не включительно)\n",
    "    print i,\n",
    "    \n",
    "for c in 'Margarita': # в циклах, слово in работает по смыслу так: \n",
    "    print c,          # \"взять очередной элемент из контейнера справа и положить в переменную слева"
   ]
  },
  {
   "cell_type": "code",
   "execution_count": 35,
   "metadata": {
    "collapsed": false
   },
   "outputs": [
    {
     "name": "stdout",
     "output_type": "stream",
     "text": [
      "4\n"
     ]
    }
   ],
   "source": [
    "def f(x): # функции объявляются ключевым словом def\n",
    "    return x * x\n",
    "print f(2)"
   ]
  },
  {
   "cell_type": "code",
   "execution_count": 41,
   "metadata": {
    "collapsed": false
   },
   "outputs": [
    {
     "name": "stdout",
     "output_type": "stream",
     "text": [
      "I wrote this string\n",
      "I wrote this string\n",
      "['I', 'wrote', 'this', 'string']\n",
      "     spaced     string      \n",
      "spaced     string\n",
      "I,wrote,this,string\n"
     ]
    }
   ],
   "source": [
    "string = raw_input() # встроенная функция raw_input считывает строчку из консоли и возвращает ее значение\n",
    "print string\n",
    "\n",
    "words = string.split() # метод split разбивает строку на слова\n",
    "print words\n",
    "\n",
    "string = '     spaced     string      '\n",
    "print string\n",
    "string = string.strip() # метод strip стирает пробелы в начале и в конце строки\n",
    "print string\n",
    "\n",
    "string = ','.join(words) # метод join расставляет между элементами списка строку, на которой он вызывается\n",
    "print string"
   ]
  },
  {
   "cell_type": "markdown",
   "metadata": {
    "collapsed": false
   },
   "source": [
    "---\n",
    "## Ряд чисел\n",
    "Даны два целых числа $A$ и $B$ (при этом $A \\leq B$). Выведите все числа от $A$ до $B$ включительно.\n",
    "##### Формат ввода:\n",
    "Вводятся два целых числа.\n",
    "##### Формат вывода:\n",
    "Выведите ответ на задачу.\n",
    "### Пример\n",
    "##### Ввод:\n",
    "---\n",
    "    1\n",
    "    10\n",
    "---\n",
    "##### Вывод:\n",
    "---\n",
    "    1 2 3 4 5 6 7 8 9 10 \n",
    "---"
   ]
  },
  {
   "cell_type": "code",
   "execution_count": 43,
   "metadata": {
    "collapsed": false
   },
   "outputs": [
    {
     "name": "stdout",
     "output_type": "stream",
     "text": [
      "1\n",
      "10\n",
      "1 2 3 4 5 6 7 8 9 10\n"
     ]
    }
   ],
   "source": [
    "string = raw_input() # считываем строку\n",
    "A = int(string) # преобразовываем ее в целое число (важно, чтобы там были только цифры)\n",
    "string = raw_input() \n",
    "B = int(string)\n",
    "\n",
    "for i in range(A, B + 1): # range создаст список чисел от A до B включительно\n",
    "    print i,"
   ]
  },
  {
   "cell_type": "markdown",
   "metadata": {
    "collapsed": false
   },
   "source": [
    "---\n",
    "## Сумма квадратов\n",
    "По данному натуральному $n$ вычислите сумму $1^2 + 2^2 + 3^2 + \\cdots + n^2$.\n",
    "##### Формат ввода:\n",
    "Вводится натуральное число.\n",
    "##### Формат вывода:\n",
    "Выведите ответ на задачу.\n",
    "### Пример\n",
    "##### Ввод:\n",
    "---\n",
    "    3\n",
    "---\n",
    "##### Вывод:\n",
    "---\n",
    "    14\n",
    "---"
   ]
  },
  {
   "cell_type": "code",
   "execution_count": 46,
   "metadata": {
    "collapsed": false
   },
   "outputs": [
    {
     "name": "stdout",
     "output_type": "stream",
     "text": [
      "3\n",
      "14\n"
     ]
    }
   ],
   "source": [
    "string = raw_input()\n",
    "n = int(string)\n",
    "\n",
    "summ = 0\n",
    "for i in range(1, n + 1):\n",
    "    summ = summ + i * i\n",
    "print summ"
   ]
  },
  {
   "cell_type": "markdown",
   "metadata": {
    "collapsed": false
   },
   "source": [
    "---\n",
    "## Факториал\n",
    "По данному целому неотрицательному $n$ вычислите значение $n!$.\n",
    "##### Формат ввода:\n",
    "Вводится число n.\n",
    "##### Формат вывода:\n",
    "Выведите ответ на задачу.\n",
    "### Пример\n",
    "##### Ввод:\n",
    "---\n",
    "    3\n",
    "---\n",
    "##### Вывод:\n",
    "---\n",
    "    6\n",
    "---"
   ]
  },
  {
   "cell_type": "code",
   "execution_count": 47,
   "metadata": {
    "collapsed": false
   },
   "outputs": [
    {
     "name": "stdout",
     "output_type": "stream",
     "text": [
      "3\n",
      "6\n"
     ]
    }
   ],
   "source": [
    "string = raw_input()\n",
    "n = int(string)\n",
    "\n",
    "prod = 1\n",
    "for i in range(1, n + 1):\n",
    "    prod = prod * i\n",
    "print prod"
   ]
  },
  {
   "cell_type": "markdown",
   "metadata": {
    "collapsed": false
   },
   "source": [
    "---\n",
    "## Пингвины\n",
    "Напишите программу, которая по данному числу $n$ от $1$ до $9$ выводит на экран n пингвинов. Изображение одного пингвина имеет размер $5 × 9$ символов, между двумя соседними пингвинами также имеется пустой (из пробелов) столбец. Разрешается вывести пустой столбец после последнего пингвина. Для упрощения рисования скопируйте пингвина из примера в среду разработки. Учтите, что вывод данных на экран производится построчно, а не попингвинно.\n",
    "В некоторых языках программирования символ обратного слэша в текстовых строках имеет специальное значение. Чтобы включить в состав текстовой строки такой символ, его нужно повторить дважды.\n",
    "##### Формат ввода:\n",
    "Вводится натуральное число.\n",
    "##### Формат вывода:\n",
    "Выведите ответ на задачу.\n",
    "### Пример\n",
    "##### Ввод:\n",
    "---\n",
    "    3\n",
    "---\n",
    "##### Вывод:\n",
    "---\n",
    "       _~_       _~_       _~_    \n",
    "      (o o)     (o o)     (o o)   \n",
    "     /  V  \\   /  V  \\   /  V  \\  \n",
    "    /(  _  )\\ /(  _  )\\ /(  _  )\\ \n",
    "      ^^ ^^     ^^ ^^     ^^ ^^   \n",
    "---"
   ]
  },
  {
   "cell_type": "code",
   "execution_count": 48,
   "metadata": {
    "collapsed": false
   },
   "outputs": [
    {
     "name": "stdout",
     "output_type": "stream",
     "text": [
      "3\n",
      "   _~_       _~_       _~_    \n",
      "  (o o)     (o o)     (o o)   \n",
      " /  V  \\   /  V  \\   /  V  \\  \n",
      "/(  _  )\\ /(  _  )\\ /(  _  )\\ \n",
      "  ^^ ^^     ^^ ^^     ^^ ^^   \n"
     ]
    }
   ],
   "source": [
    "string = raw_input()\n",
    "n = int(string)\n",
    "penguin = ['   _~_    ',\n",
    "           '  (o o)   ',\n",
    "           ' /  V  \\  ',\n",
    "           '/(  _  )\\ ',\n",
    "           '  ^^ ^^   ']\n",
    "for part in penguin:\n",
    "    print part * n # здесь мы умножаем строку из penguin на число (она напечатается это число раз)"
   ]
  },
  {
   "cell_type": "markdown",
   "metadata": {
    "collapsed": false
   },
   "source": [
    "---\n",
    "## Сумма десяти чисел\n",
    "Дано $10$ целых чисел. Вычислите их сумму.\n",
    "##### Формат ввода:\n",
    "Вводятся $10$ целых чисел. Каждое число вводится в отдельной строке.\n",
    "##### Формат вывода:\n",
    "Выведите ответ на задачу.\n",
    "### Пример\n",
    "##### Ввод:\n",
    "---\n",
    "    0\n",
    "    1\n",
    "    2\n",
    "    3\n",
    "    4\n",
    "    5\n",
    "    6\n",
    "    7\n",
    "    8\n",
    "    9\n",
    "---\n",
    "##### Вывод:\n",
    "---\n",
    "    45\n",
    "---"
   ]
  },
  {
   "cell_type": "code",
   "execution_count": 49,
   "metadata": {
    "collapsed": false
   },
   "outputs": [
    {
     "name": "stdout",
     "output_type": "stream",
     "text": [
      "0\n",
      "1\n",
      "2\n",
      "3\n",
      "4\n",
      "5\n",
      "6\n",
      "7\n",
      "8\n",
      "9\n",
      "45\n"
     ]
    }
   ],
   "source": [
    "summ = 0\n",
    "for i in range(10):\n",
    "    string = raw_input()\n",
    "    n = int(string)\n",
    "    summ = summ + n\n",
    "print summ"
   ]
  },
  {
   "cell_type": "markdown",
   "metadata": {},
   "source": [
    "---\n",
    "## Треугольная последовательность\n",
    "Дана монотонная последовательность, в которой каждое натуральное число $k$ встречается ровно $k$ раз: $1, 2, 2, 3, 3, 3, 4, 4, 4, 4, \\cdots$  \n",
    "По данному натуральному $n$ выведите первые $n$ членов этой последовательности.\n",
    "##### Формат ввода:\n",
    "Вводится натуральное число $n$.\n",
    "##### Формат вывода:\n",
    "Выведите ответ на задачу.\n",
    "### Пример\n",
    "##### Ввод:\n",
    "---\n",
    "    5\n",
    "---\n",
    "##### Вывод:\n",
    "---\n",
    "    1 2 2 3 3 \n",
    "---"
   ]
  },
  {
   "cell_type": "code",
   "execution_count": 62,
   "metadata": {
    "collapsed": false
   },
   "outputs": [
    {
     "name": "stdout",
     "output_type": "stream",
     "text": [
      "5\n",
      "1 2 2 3 3\n"
     ]
    }
   ],
   "source": [
    "n = int(raw_input()) # можно сразу преобразовать считанную строку в int, без промежуточного буфера string\n",
    "c = 1\n",
    "for i in range(n):\n",
    "    if i == sum(range(c + 1)): # встроенная функция sum вычисляет сумму элементов списка\n",
    "        c = c + 1\n",
    "    print c,"
   ]
  },
  {
   "cell_type": "code",
   "execution_count": null,
   "metadata": {
    "collapsed": true
   },
   "outputs": [],
   "source": []
  }
 ],
 "metadata": {
  "kernelspec": {
   "display_name": "Python 2",
   "language": "python",
   "name": "python2"
  },
  "language_info": {
   "codemirror_mode": {
    "name": "ipython",
    "version": 2
   },
   "file_extension": ".py",
   "mimetype": "text/x-python",
   "name": "python",
   "nbconvert_exporter": "python",
   "pygments_lexer": "ipython2",
   "version": "2.7.10"
  }
 },
 "nbformat": 4,
 "nbformat_minor": 0
}
