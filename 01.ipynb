{
 "cells": [
  {
   "cell_type": "code",
   "execution_count": 17,
   "metadata": {
    "collapsed": false
   },
   "outputs": [
    {
     "name": "stdout",
     "output_type": "stream",
     "text": [
      "g      g\n",
      "['g', 'g']\n",
      "0 1\n"
     ]
    }
   ],
   "source": [
    "lst = raw_input().strip().split()\n",
    "print lst\n",
    "dct = {}\n",
    "\n",
    "for item in lst:\n",
    "    if item not in dct.keys():\n",
    "        dct[item] = 0\n",
    "    else:\n",
    "        dct[item] += 1\n",
    "    \n",
    "    print dct[item],\n",
    "    "
   ]
  },
  {
   "cell_type": "code",
   "execution_count": 18,
   "metadata": {
    "collapsed": false
   },
   "outputs": [
    {
     "name": "stdout",
     "output_type": "stream",
     "text": [
      "a    a\n",
      "a    a\n"
     ]
    }
   ],
   "source": [
    "print raw_input()"
   ]
  },
  {
   "cell_type": "code",
   "execution_count": 19,
   "metadata": {
    "collapsed": false
   },
   "outputs": [
    {
     "name": "stdout",
     "output_type": "stream",
     "text": [
      "a       a\n",
      "a       a\n"
     ]
    }
   ],
   "source": [
    "print raw_input().strip()"
   ]
  },
  {
   "cell_type": "code",
   "execution_count": 21,
   "metadata": {
    "collapsed": false
   },
   "outputs": [
    {
     "name": "stdout",
     "output_type": "stream",
     "text": [
      "a    a\n",
      "['a', 'a']\n"
     ]
    }
   ],
   "source": [
    "print raw_input().strip().split()"
   ]
  },
  {
   "cell_type": "code",
   "execution_count": 22,
   "metadata": {
    "collapsed": false
   },
   "outputs": [
    {
     "name": "stdout",
     "output_type": "stream",
     "text": [
      "a         a\n",
      "['a', '', '', '', '', '', '', '', '', 'a']\n"
     ]
    }
   ],
   "source": [
    "print raw_input().strip().split(\" \")"
   ]
  },
  {
   "cell_type": "code",
   "execution_count": 32,
   "metadata": {
    "collapsed": false
   },
   "outputs": [
    {
     "name": "stdout",
     "output_type": "stream",
     "text": [
      "\n"
     ]
    }
   ],
   "source": [
    "#TASK C CONTAINERS\n",
    "lst = raw_input().strip().split()\n",
    "out = []\n",
    "dct = {}\n",
    "while(lst):\n",
    "    for item in lst:\n",
    "        if item not in dct.keys():\n",
    "            dct[item] = 0\n",
    "        else:\n",
    "            dct[item] += 1\n",
    "        out += [dct[item]]\n",
    "    lst = raw_input().strip().split()\n",
    "\n",
    "for item in out:\n",
    "    print item,"
   ]
  },
  {
   "cell_type": "code",
   "execution_count": 34,
   "metadata": {
    "collapsed": false
   },
   "outputs": [
    {
     "name": "stdout",
     "output_type": "stream",
     "text": [
      "a a b b z z z\n",
      "z\n"
     ]
    }
   ],
   "source": [
    "#TASK D CONTAINERS\n",
    "lst = raw_input().strip().split()\n",
    "dct = {}\n",
    "for item in lst:\n",
    "    if item not in dct.keys():\n",
    "        dct[item] = 0\n",
    "    else:\n",
    "        dct[item] += 1\n",
    "\n",
    "if dct:\n",
    "    mx = max(dct.values())\n",
    "    dct = dict(((key, value) for key, value in dct.items() if value == mx))\n",
    "    mn = min(dct.keys())\n",
    "    print mn"
   ]
  },
  {
   "cell_type": "code",
   "execution_count": 38,
   "metadata": {
    "collapsed": false
   },
   "outputs": [
    {
     "name": "stdout",
     "output_type": "stream",
     "text": [
      "1 2 3 2 1\n",
      "3\n"
     ]
    }
   ],
   "source": [
    "#TASK E CONTAINERS\n",
    "lst = raw_input().strip().split()\n",
    "st = set()\n",
    "for item in lst:\n",
    "    st.add(item)\n",
    "\n",
    "print len(st)"
   ]
  },
  {
   "cell_type": "code",
   "execution_count": 43,
   "metadata": {
    "collapsed": false
   },
   "outputs": [
    {
     "name": "stdout",
     "output_type": "stream",
     "text": [
      "1 3 2\n",
      "4 3 2\n",
      "3 2\n"
     ]
    }
   ],
   "source": [
    "#TASK F CONTAINERS\n",
    "lst1 = raw_input().strip().split()\n",
    "lst2 = raw_input().strip().split()\n",
    "st1 = set()\n",
    "st2 = set()\n",
    "for item in lst1:\n",
    "    st1.add(item)\n",
    "for item in lst2:\n",
    "    st2.add(item)\n",
    "    \n",
    "st = st1.intersection(st2)\n",
    "lst = list(st)\n",
    "\n",
    "for item in lst:\n",
    "    print item,"
   ]
  },
  {
   "cell_type": "code",
   "execution_count": null,
   "metadata": {
    "collapsed": true
   },
   "outputs": [],
   "source": []
  }
 ],
 "metadata": {
  "kernelspec": {
   "display_name": "Python 2",
   "language": "python",
   "name": "python2"
  },
  "language_info": {
   "codemirror_mode": {
    "name": "ipython",
    "version": 2
   },
   "file_extension": ".py",
   "mimetype": "text/x-python",
   "name": "python",
   "nbconvert_exporter": "python",
   "pygments_lexer": "ipython2",
   "version": "2.7.9"
  }
 },
 "nbformat": 4,
 "nbformat_minor": 0
}
