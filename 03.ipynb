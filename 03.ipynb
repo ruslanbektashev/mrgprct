{
 "cells": [
  {
   "cell_type": "markdown",
   "metadata": {},
   "source": [
    "## Циклический сдвиг\n",
    "Циклически сдвиньте элементы списка вправо ($A[0]$ переходит на место $A[1]$, $A[1]$ на место $A[2]$, ..., последний элемент переходит на место $A[0]$).\n",
    "Для решения этой задачи примените контейнер \"список\".\n",
    "##### Формат ввода:\n",
    "Строка, содержащая от $1$ до $50$ целых чисел в диапазоне от $-100$ до $100$, разделенных пробельными символами.\n",
    "##### Формат вывода:\n",
    "Список чисел в таком же формате.\n",
    "### Пример\n",
    "##### Ввод:\n",
    "---\n",
    "    1 2 3 4 5\n",
    "---\n",
    "##### Вывод:\n",
    "---\n",
    "    5 1 2 3 4 \n",
    "---"
   ]
  },
  {
   "cell_type": "code",
   "execution_count": 1,
   "metadata": {
    "collapsed": false
   },
   "outputs": [
    {
     "name": "stdout",
     "output_type": "stream",
     "text": [
      "1 2 3 4 5\n",
      "5 1 2 3 4\n"
     ]
    }
   ],
   "source": [
    "string = raw_input()\n",
    "words = string.split() # split метод строки возвращает список слов\n",
    "words = [words[-1]] + words[:-1] # списки можно складывать (добавляются элементы из второго списка к первому)\n",
    "print ' '.join(words)"
   ]
  },
  {
   "cell_type": "markdown",
   "metadata": {},
   "source": [
    "---\n",
    "## Шеренга\n",
    "Петя перешёл в другую школу. На уроке физкультуры ему понадобилось определить своё место в строю. Помогите ему это сделать.\n",
    "Для решения этой задачи примените контейнер \"список\".\n",
    "##### Формат ввода:\n",
    "Первая строка содержит от $1$ до $100$ натуральных чисел, разделенных пробельными символами — рост каждого человека в строю. Вторая строка содержит одно натуральное число — рост Пети. Все числа не превышают $200$.\n",
    "##### Формат вывода:\n",
    "Выведите номер, под которым Петя должен встать в строй. Если в строю есть люди с одинаковым ростом, таким же, как у Пети, то он должен встать после них.\n",
    "### Пример\n",
    "##### Ввод:\n",
    "---\n",
    "    165 163 160 160 157 157 155 154 \n",
    "    160\n",
    "---\n",
    "##### Вывод:\n",
    "---\n",
    "    5\n",
    "---"
   ]
  },
  {
   "cell_type": "code",
   "execution_count": 4,
   "metadata": {
    "collapsed": false
   },
   "outputs": [
    {
     "name": "stdout",
     "output_type": "stream",
     "text": [
      "165 163 160 160 157 157 155 154 \n",
      "160\n",
      "5\n"
     ]
    }
   ],
   "source": [
    "string = raw_input()\n",
    "words = string.split()\n",
    "height = raw_input()\n",
    "for i in range(len(words)): # аналог цикла в C for (i = 0; i < N; i++)\n",
    "    if height > words[i]:\n",
    "        print i + 1\n",
    "        break\n",
    "else: # комбинация for ... else позволяет выполнить код после else, если цикл успешно завершился (без break)\n",
    "    print len(words) + 1\n",
    "        "
   ]
  },
  {
   "cell_type": "markdown",
   "metadata": {},
   "source": [
    "---\n",
    "## Номер появления слова\n",
    "Словом считается последовательность непробельных символов, идущих подряд. Слова разделены одним или большим числом пробелов или символами конца строки.\n",
    "Для каждого слова из текста посчитайте, сколько раз оно встречалось в этом тексте ранее.\n",
    "Для решения этой задачи примените контейнер \"словарь\".\n",
    "##### Формат ввода:\n",
    "Несколько строк, общее количество символов не превосходит $10^6$.\n",
    "##### Формат вывода:\n",
    "Одна строка - последовательность чисел, разделенных пробелами.\n",
    "### Пример\n",
    "##### Ввод:\n",
    "---\n",
    "    She sells sea shells on the sea shore;\n",
    "    The shells that she sells are sea shells I'm sure.\n",
    "    So if she sells sea shells on the sea shore,\n",
    "    I'm sure that the shells are sea shore shells.\n",
    "---\n",
    "##### Вывод:\n",
    "---\n",
    "    0 0 0 0 0 0 1 0 0 1 0 0 1 0 2 2 0 0 0 0 1 2 3 3 1 1 4 0 1 0 1 2 4 1 5 0 0 \n",
    "---"
   ]
  },
  {
   "cell_type": "code",
   "execution_count": 1,
   "metadata": {
    "collapsed": false
   },
   "outputs": [
    {
     "name": "stdout",
     "output_type": "stream",
     "text": [
      "She sells sea shells on the sea shore;\n",
      "The shells that she sells are sea shells I'm sure.\n",
      "So if she sells sea shells on the sea shore,\n",
      "I'm sure that the shells are sea shore shells.\n",
      "\n",
      "0 0 0 0 0 0 1 0 0 1 0 0 1 0 2 2 0 0 0 0 1 2 3 3 1 1 4 0 1 0 1 2 4 1 5 0 0\n"
     ]
    }
   ],
   "source": [
    "counters = {}\n",
    "counts = []\n",
    "while True:\n",
    "    try:\n",
    "        words = raw_input().split()\n",
    "    except EOFError:\n",
    "        break\n",
    "    if words:\n",
    "        for word in words:\n",
    "            if word in counters:\n",
    "                counters[word] += 1 # сокращенная запись counters[word] = counters[word] + 1\n",
    "            else:\n",
    "                counters[word] = 0\n",
    "            counts.append(str(counters[word]))\n",
    "    else:\n",
    "        break\n",
    "print ' '.join(counts)"
   ]
  },
  {
   "cell_type": "markdown",
   "metadata": {},
   "source": [
    "---\n",
    "## Самое частое слово\n",
    "Дан текст. Выведите слово, которое в этом тексте встречается чаще всего. Если таких слов несколько, выведите то, которое меньше в лексикографическом порядке.\n",
    "Для решения этой задачи примените контейнер \"словарь\".\n",
    "##### Формат ввода:\n",
    "Несколько строк, общее количество символов не превосходит $10^6$.\n",
    "##### Формат вывода:\n",
    "Одно слово - ответ на задачу.\n",
    "### Пример\n",
    "##### Ввод:\n",
    "---\n",
    "    apple orange banana banana orange\n",
    "---\n",
    "##### Вывод:\n",
    "---\n",
    "    banana\n",
    "---"
   ]
  },
  {
   "cell_type": "code",
   "execution_count": 13,
   "metadata": {
    "collapsed": false
   },
   "outputs": [
    {
     "name": "stdout",
     "output_type": "stream",
     "text": [
      "apple orange banana banana orange\n",
      "\n",
      "banana\n"
     ]
    }
   ],
   "source": [
    "counters = {}\n",
    "frequent_word = None # None - ничего. В переменной frequent_word лежит ничего :)\n",
    "frequency = None\n",
    "while True:\n",
    "    try:\n",
    "        words = raw_input().split()\n",
    "    except EOFError:\n",
    "        break\n",
    "    if words:\n",
    "        for word in words:\n",
    "            if word in counters:\n",
    "                counters[word] += 1\n",
    "            else:\n",
    "                counters[word] = 0\n",
    "            if frequency is None and frequent_word is None: # is означает \"является\"\n",
    "                frequent_word = word\n",
    "                frequency = counters[word]\n",
    "            if counters[word] > frequency or (counters[word] == frequency and frequent_word > word):\n",
    "                frequent_word = word\n",
    "                frequency = counters[word]\n",
    "    else:\n",
    "        break\n",
    "print frequent_word"
   ]
  },
  {
   "cell_type": "markdown",
   "metadata": {},
   "source": [
    "---\n",
    "## Количество различных чисел\n",
    "Дан список чисел, который может содержать до $100000$ чисел. Определите, сколько в нем встречается различных чисел.\n",
    "Для решения этой задачи примените контейнер \"множество\".\n",
    "##### Формат ввода:\n",
    "Одна строка, состоящая из не более чем $10^5$ целых чисел, не превосходящих по модулю $10^9$.\n",
    "##### Формат вывода:\n",
    "Одно число - ответ на задачу.\n",
    "### Пример\n",
    "##### Ввод:\n",
    "---\n",
    "    1 2 3 2 1\n",
    "---\n",
    "##### Вывод:\n",
    "---\n",
    "    3\n",
    "---"
   ]
  },
  {
   "cell_type": "code",
   "execution_count": 9,
   "metadata": {
    "collapsed": false
   },
   "outputs": [
    {
     "name": "stdout",
     "output_type": "stream",
     "text": [
      "1 2 3 2 1\n",
      "3\n"
     ]
    }
   ],
   "source": [
    "words = set(raw_input().split()) # сразу преобразуем список в множество\n",
    "print len(words)"
   ]
  },
  {
   "cell_type": "markdown",
   "metadata": {},
   "source": [
    "---\n",
    "## Пересечение множеств\n",
    "Даны два списка чисел, которые могут содержать до $10000$ чисел каждый. Выведите все числа, которые входят как в первый, так и во второй список в порядке возрастания.\n",
    "Для решения этой задачи примените контейнер \"множество\".\n",
    "##### Формат ввода:\n",
    "Две строки, каждая из которых состоит из не более чем $10^5$ целых чисел, не превосходящих по модулю $10^9$.\n",
    "##### Формат вывода:\n",
    "Одна строка - ответ на задачу.\n",
    "### Пример\n",
    "##### Ввод:\n",
    "---\n",
    "    1 3 2\n",
    "    4 3 2\n",
    "---\n",
    "##### Вывод:\n",
    "---\n",
    "    2 3\n",
    "---"
   ]
  },
  {
   "cell_type": "code",
   "execution_count": 8,
   "metadata": {
    "collapsed": false
   },
   "outputs": [
    {
     "name": "stdout",
     "output_type": "stream",
     "text": [
      "1 2 3\n",
      "3 2 5\n",
      "2 3\n"
     ]
    }
   ],
   "source": [
    "a_set = set(raw_input().split()) \n",
    "b_set = set(raw_input().split())\n",
    "print ' '.join(sorted(a_set.intersection(b_set))) # встроенная функция sorted возвращает отсортированный список"
   ]
  },
  {
   "cell_type": "code",
   "execution_count": null,
   "metadata": {
    "collapsed": true
   },
   "outputs": [],
   "source": []
  }
 ],
 "metadata": {
  "kernelspec": {
   "display_name": "Python 2",
   "language": "python",
   "name": "python2"
  },
  "language_info": {
   "codemirror_mode": {
    "name": "ipython",
    "version": 2
   },
   "file_extension": ".py",
   "mimetype": "text/x-python",
   "name": "python",
   "nbconvert_exporter": "python",
   "pygments_lexer": "ipython2",
   "version": "2.7.10"
  }
 },
 "nbformat": 4,
 "nbformat_minor": 0
}
