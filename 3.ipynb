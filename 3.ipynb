{
 "cells": [
  {
   "cell_type": "code",
   "execution_count": 4,
   "metadata": {
    "collapsed": false
   },
   "outputs": [
    {
     "name": "stdout",
     "output_type": "stream",
     "text": [
      "asd asd aaa aaa\n",
      "\n",
      "aaa\n"
     ]
    }
   ],
   "source": [
    "s = raw_input().strip().split()\n",
    "dct = {}\n",
    "frq = 0\n",
    "frq_word = None\n",
    "while s:\n",
    "    for word in s:\n",
    "        if word in dct:\n",
    "            dct[word] += 1\n",
    "        else:\n",
    "            dct[word] = 1\n",
    "        if dct[word] > frq or dct[word] == frq and word < frq_word:\n",
    "            frq_word = word\n",
    "            frq = dct[word]\n",
    "    \n",
    "    s = raw_input().strip().split()\n",
    "print frq_word"
   ]
  },
  {
   "cell_type": "code",
   "execution_count": 6,
   "metadata": {
    "collapsed": false
   },
   "outputs": [
    {
     "name": "stdout",
     "output_type": "stream",
     "text": [
      "1 2 3 2 1\n",
      "3\n"
     ]
    }
   ],
   "source": [
    "s = set(raw_input().strip().split())\n",
    "print len(s)"
   ]
  },
  {
   "cell_type": "code",
   "execution_count": 10,
   "metadata": {
    "collapsed": false
   },
   "outputs": [
    {
     "name": "stdout",
     "output_type": "stream",
     "text": [
      "9 8 7 6\n",
      "7 6 5 4\n",
      "6 7\n"
     ]
    }
   ],
   "source": [
    "s1 = set(raw_input().strip().split())\n",
    "s2 = set(raw_input().strip().split())\n",
    "for item in sorted(list(s1.intersection(s2))):\n",
    "    print item,\n"
   ]
  },
  {
   "cell_type": "code",
   "execution_count": null,
   "metadata": {
    "collapsed": true
   },
   "outputs": [],
   "source": []
  }
 ],
 "metadata": {
  "kernelspec": {
   "display_name": "Python 2",
   "language": "python",
   "name": "python2"
  },
  "language_info": {
   "codemirror_mode": {
    "name": "ipython",
    "version": 2
   },
   "file_extension": ".py",
   "mimetype": "text/x-python",
   "name": "python",
   "nbconvert_exporter": "python",
   "pygments_lexer": "ipython2",
   "version": "2.7.10"
  }
 },
 "nbformat": 4,
 "nbformat_minor": 0
}
